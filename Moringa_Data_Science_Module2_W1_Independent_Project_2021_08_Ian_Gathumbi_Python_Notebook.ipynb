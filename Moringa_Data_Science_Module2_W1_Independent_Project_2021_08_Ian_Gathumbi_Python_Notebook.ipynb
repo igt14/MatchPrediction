{
  "nbformat": 4,
  "nbformat_minor": 0,
  "metadata": {
    "colab": {
      "name": "Moringa_Data_Science_Module2_W1_Independent_Project_2021_08_Ian_Gathumbi_Python_Notebook",
      "provenance": [],
      "collapsed_sections": [],
      "authorship_tag": "ABX9TyP3dMYTVB+CgY56bXnYpe3Z",
      "include_colab_link": true
    },
    "kernelspec": {
      "name": "python3",
      "display_name": "Python 3"
    },
    "language_info": {
      "name": "python"
    }
  },
  "cells": [
    {
      "cell_type": "markdown",
      "metadata": {
        "id": "view-in-github",
        "colab_type": "text"
      },
      "source": [
        "<a href=\"https://colab.research.google.com/github/igt14/MatchPrediction/blob/main/Moringa_Data_Science_Module2_W1_Independent_Project_2021_08_Ian_Gathumbi_Python_Notebook.ipynb\" target=\"_parent\"><img src=\"https://colab.research.google.com/assets/colab-badge.svg\" alt=\"Open In Colab\"/></a>"
      ]
    },
    {
      "cell_type": "markdown",
      "metadata": {
        "id": "nMgOHpXbsr9A"
      },
      "source": [
        "# 1. Defining the question"
      ]
    },
    {
      "cell_type": "code",
      "metadata": {
        "id": "47U_YNEOuGWJ"
      },
      "source": [
        "import numpy as np\n",
        "import pandas as pd\n",
        "import matplotlib.pyplot as plt\n",
        "import seaborn as sns\n",
        "import scipy as sp\n",
        "import datetime as dt"
      ],
      "execution_count": 32,
      "outputs": []
    },
    {
      "cell_type": "markdown",
      "metadata": {
        "id": "ZOFwPkRste8q"
      },
      "source": [
        "# 2. Loading the data"
      ]
    },
    {
      "cell_type": "code",
      "metadata": {
        "id": "7R1CIMRXtqxQ"
      },
      "source": [
        "# Loading the fifa ranking dataset\n",
        "ranking = pd.read_csv('/content/fifa_ranking.csv')"
      ],
      "execution_count": 2,
      "outputs": []
    },
    {
      "cell_type": "code",
      "metadata": {
        "id": "GXdpxjFiu_VW"
      },
      "source": [
        "# Loading the results dataset\n",
        "results = pd.read_csv('/content/results.csv')"
      ],
      "execution_count": 3,
      "outputs": []
    },
    {
      "cell_type": "markdown",
      "metadata": {
        "id": "tpvNjz3NvQUL"
      },
      "source": [
        "# 3. Previewing the datasets"
      ]
    },
    {
      "cell_type": "code",
      "metadata": {
        "id": "ewdPd5f7Kgxz"
      },
      "source": [
        "def rows_and_columns(df):\n",
        "  print(str(df.shape[0]), 'rows and', str(df.shape[1]), 'columns')"
      ],
      "execution_count": 7,
      "outputs": []
    },
    {
      "cell_type": "code",
      "metadata": {
        "colab": {
          "base_uri": "https://localhost:8080/"
        },
        "id": "zFV93usgvYPh",
        "outputId": "c6745178-5599-4a6b-db48-04a97ab3ebb3"
      },
      "source": [
        "# Checking the number of records\n",
        "# Ranking\n",
        "print('Ranking :')\n",
        "rows_and_columns(ranking)\n",
        "# Results\n",
        "print('Results :')\n",
        "rows_and_columns(results)"
      ],
      "execution_count": 11,
      "outputs": [
        {
          "output_type": "stream",
          "name": "stdout",
          "text": [
            "Ranking :\n",
            "57793 rows and 16 columns\n",
            "Results :\n",
            "40839 rows and 9 columns\n"
          ]
        }
      ]
    },
    {
      "cell_type": "code",
      "metadata": {
        "colab": {
          "base_uri": "https://localhost:8080/"
        },
        "id": "Q8-8U8APyfGK",
        "outputId": "aeff2307-b047-4ccc-d4e2-37cd76a63844"
      },
      "source": [
        "# Checking the information on ranking\n",
        "ranking.info()"
      ],
      "execution_count": 12,
      "outputs": [
        {
          "output_type": "stream",
          "name": "stdout",
          "text": [
            "<class 'pandas.core.frame.DataFrame'>\n",
            "RangeIndex: 57793 entries, 0 to 57792\n",
            "Data columns (total 16 columns):\n",
            " #   Column                   Non-Null Count  Dtype  \n",
            "---  ------                   --------------  -----  \n",
            " 0   rank                     57793 non-null  int64  \n",
            " 1   country_full             57793 non-null  object \n",
            " 2   country_abrv             57793 non-null  object \n",
            " 3   total_points             57793 non-null  float64\n",
            " 4   previous_points          57793 non-null  int64  \n",
            " 5   rank_change              57793 non-null  int64  \n",
            " 6   cur_year_avg             57793 non-null  float64\n",
            " 7   cur_year_avg_weighted    57793 non-null  float64\n",
            " 8   last_year_avg            57793 non-null  float64\n",
            " 9   last_year_avg_weighted   57793 non-null  float64\n",
            " 10  two_year_ago_avg         57793 non-null  float64\n",
            " 11  two_year_ago_weighted    57793 non-null  float64\n",
            " 12  three_year_ago_avg       57793 non-null  float64\n",
            " 13  three_year_ago_weighted  57793 non-null  float64\n",
            " 14  confederation            57793 non-null  object \n",
            " 15  rank_date                57793 non-null  object \n",
            "dtypes: float64(9), int64(3), object(4)\n",
            "memory usage: 7.1+ MB\n"
          ]
        }
      ]
    },
    {
      "cell_type": "code",
      "metadata": {
        "colab": {
          "base_uri": "https://localhost:8080/"
        },
        "id": "i-pzqSgbyuCx",
        "outputId": "00ab25ab-b218-4685-d5df-59c0deddc1fd"
      },
      "source": [
        "# Checking the information on results\n",
        "results.info()"
      ],
      "execution_count": 13,
      "outputs": [
        {
          "output_type": "stream",
          "name": "stdout",
          "text": [
            "<class 'pandas.core.frame.DataFrame'>\n",
            "RangeIndex: 40839 entries, 0 to 40838\n",
            "Data columns (total 9 columns):\n",
            " #   Column      Non-Null Count  Dtype \n",
            "---  ------      --------------  ----- \n",
            " 0   date        40839 non-null  object\n",
            " 1   home_team   40839 non-null  object\n",
            " 2   away_team   40839 non-null  object\n",
            " 3   home_score  40839 non-null  int64 \n",
            " 4   away_score  40839 non-null  int64 \n",
            " 5   tournament  40839 non-null  object\n",
            " 6   city        40839 non-null  object\n",
            " 7   country     40839 non-null  object\n",
            " 8   neutral     40839 non-null  bool  \n",
            "dtypes: bool(1), int64(2), object(6)\n",
            "memory usage: 2.5+ MB\n"
          ]
        }
      ]
    },
    {
      "cell_type": "code",
      "metadata": {
        "colab": {
          "base_uri": "https://localhost:8080/",
          "height": 309
        },
        "id": "cTHGzuR3xm7T",
        "outputId": "0b496aea-33b9-4c1e-8eb5-a7e785cc2e88"
      },
      "source": [
        "# Previewing the top of ranking\n",
        "ranking.head()  "
      ],
      "execution_count": 14,
      "outputs": [
        {
          "output_type": "execute_result",
          "data": {
            "text/html": [
              "<div>\n",
              "<style scoped>\n",
              "    .dataframe tbody tr th:only-of-type {\n",
              "        vertical-align: middle;\n",
              "    }\n",
              "\n",
              "    .dataframe tbody tr th {\n",
              "        vertical-align: top;\n",
              "    }\n",
              "\n",
              "    .dataframe thead th {\n",
              "        text-align: right;\n",
              "    }\n",
              "</style>\n",
              "<table border=\"1\" class=\"dataframe\">\n",
              "  <thead>\n",
              "    <tr style=\"text-align: right;\">\n",
              "      <th></th>\n",
              "      <th>rank</th>\n",
              "      <th>country_full</th>\n",
              "      <th>country_abrv</th>\n",
              "      <th>total_points</th>\n",
              "      <th>previous_points</th>\n",
              "      <th>rank_change</th>\n",
              "      <th>cur_year_avg</th>\n",
              "      <th>cur_year_avg_weighted</th>\n",
              "      <th>last_year_avg</th>\n",
              "      <th>last_year_avg_weighted</th>\n",
              "      <th>two_year_ago_avg</th>\n",
              "      <th>two_year_ago_weighted</th>\n",
              "      <th>three_year_ago_avg</th>\n",
              "      <th>three_year_ago_weighted</th>\n",
              "      <th>confederation</th>\n",
              "      <th>rank_date</th>\n",
              "    </tr>\n",
              "  </thead>\n",
              "  <tbody>\n",
              "    <tr>\n",
              "      <th>0</th>\n",
              "      <td>1</td>\n",
              "      <td>Germany</td>\n",
              "      <td>GER</td>\n",
              "      <td>0.0</td>\n",
              "      <td>57</td>\n",
              "      <td>0</td>\n",
              "      <td>0.0</td>\n",
              "      <td>0.0</td>\n",
              "      <td>0.0</td>\n",
              "      <td>0.0</td>\n",
              "      <td>0.0</td>\n",
              "      <td>0.0</td>\n",
              "      <td>0.0</td>\n",
              "      <td>0.0</td>\n",
              "      <td>UEFA</td>\n",
              "      <td>1993-08-08</td>\n",
              "    </tr>\n",
              "    <tr>\n",
              "      <th>1</th>\n",
              "      <td>2</td>\n",
              "      <td>Italy</td>\n",
              "      <td>ITA</td>\n",
              "      <td>0.0</td>\n",
              "      <td>57</td>\n",
              "      <td>0</td>\n",
              "      <td>0.0</td>\n",
              "      <td>0.0</td>\n",
              "      <td>0.0</td>\n",
              "      <td>0.0</td>\n",
              "      <td>0.0</td>\n",
              "      <td>0.0</td>\n",
              "      <td>0.0</td>\n",
              "      <td>0.0</td>\n",
              "      <td>UEFA</td>\n",
              "      <td>1993-08-08</td>\n",
              "    </tr>\n",
              "    <tr>\n",
              "      <th>2</th>\n",
              "      <td>3</td>\n",
              "      <td>Switzerland</td>\n",
              "      <td>SUI</td>\n",
              "      <td>0.0</td>\n",
              "      <td>50</td>\n",
              "      <td>9</td>\n",
              "      <td>0.0</td>\n",
              "      <td>0.0</td>\n",
              "      <td>0.0</td>\n",
              "      <td>0.0</td>\n",
              "      <td>0.0</td>\n",
              "      <td>0.0</td>\n",
              "      <td>0.0</td>\n",
              "      <td>0.0</td>\n",
              "      <td>UEFA</td>\n",
              "      <td>1993-08-08</td>\n",
              "    </tr>\n",
              "    <tr>\n",
              "      <th>3</th>\n",
              "      <td>4</td>\n",
              "      <td>Sweden</td>\n",
              "      <td>SWE</td>\n",
              "      <td>0.0</td>\n",
              "      <td>55</td>\n",
              "      <td>0</td>\n",
              "      <td>0.0</td>\n",
              "      <td>0.0</td>\n",
              "      <td>0.0</td>\n",
              "      <td>0.0</td>\n",
              "      <td>0.0</td>\n",
              "      <td>0.0</td>\n",
              "      <td>0.0</td>\n",
              "      <td>0.0</td>\n",
              "      <td>UEFA</td>\n",
              "      <td>1993-08-08</td>\n",
              "    </tr>\n",
              "    <tr>\n",
              "      <th>4</th>\n",
              "      <td>5</td>\n",
              "      <td>Argentina</td>\n",
              "      <td>ARG</td>\n",
              "      <td>0.0</td>\n",
              "      <td>51</td>\n",
              "      <td>5</td>\n",
              "      <td>0.0</td>\n",
              "      <td>0.0</td>\n",
              "      <td>0.0</td>\n",
              "      <td>0.0</td>\n",
              "      <td>0.0</td>\n",
              "      <td>0.0</td>\n",
              "      <td>0.0</td>\n",
              "      <td>0.0</td>\n",
              "      <td>CONMEBOL</td>\n",
              "      <td>1993-08-08</td>\n",
              "    </tr>\n",
              "  </tbody>\n",
              "</table>\n",
              "</div>"
            ],
            "text/plain": [
              "   rank country_full  ... confederation   rank_date\n",
              "0     1      Germany  ...          UEFA  1993-08-08\n",
              "1     2        Italy  ...          UEFA  1993-08-08\n",
              "2     3  Switzerland  ...          UEFA  1993-08-08\n",
              "3     4       Sweden  ...          UEFA  1993-08-08\n",
              "4     5    Argentina  ...      CONMEBOL  1993-08-08\n",
              "\n",
              "[5 rows x 16 columns]"
            ]
          },
          "metadata": {},
          "execution_count": 14
        }
      ]
    },
    {
      "cell_type": "code",
      "metadata": {
        "colab": {
          "base_uri": "https://localhost:8080/",
          "height": 204
        },
        "id": "3k3yRJXoyIyd",
        "outputId": "ae2cbbb6-3d85-49ed-d0d0-7d057ae0bb0a"
      },
      "source": [
        "# Previewing the top of results\n",
        "results.head()"
      ],
      "execution_count": 15,
      "outputs": [
        {
          "output_type": "execute_result",
          "data": {
            "text/html": [
              "<div>\n",
              "<style scoped>\n",
              "    .dataframe tbody tr th:only-of-type {\n",
              "        vertical-align: middle;\n",
              "    }\n",
              "\n",
              "    .dataframe tbody tr th {\n",
              "        vertical-align: top;\n",
              "    }\n",
              "\n",
              "    .dataframe thead th {\n",
              "        text-align: right;\n",
              "    }\n",
              "</style>\n",
              "<table border=\"1\" class=\"dataframe\">\n",
              "  <thead>\n",
              "    <tr style=\"text-align: right;\">\n",
              "      <th></th>\n",
              "      <th>date</th>\n",
              "      <th>home_team</th>\n",
              "      <th>away_team</th>\n",
              "      <th>home_score</th>\n",
              "      <th>away_score</th>\n",
              "      <th>tournament</th>\n",
              "      <th>city</th>\n",
              "      <th>country</th>\n",
              "      <th>neutral</th>\n",
              "    </tr>\n",
              "  </thead>\n",
              "  <tbody>\n",
              "    <tr>\n",
              "      <th>0</th>\n",
              "      <td>1872-11-30</td>\n",
              "      <td>Scotland</td>\n",
              "      <td>England</td>\n",
              "      <td>0</td>\n",
              "      <td>0</td>\n",
              "      <td>Friendly</td>\n",
              "      <td>Glasgow</td>\n",
              "      <td>Scotland</td>\n",
              "      <td>False</td>\n",
              "    </tr>\n",
              "    <tr>\n",
              "      <th>1</th>\n",
              "      <td>1873-03-08</td>\n",
              "      <td>England</td>\n",
              "      <td>Scotland</td>\n",
              "      <td>4</td>\n",
              "      <td>2</td>\n",
              "      <td>Friendly</td>\n",
              "      <td>London</td>\n",
              "      <td>England</td>\n",
              "      <td>False</td>\n",
              "    </tr>\n",
              "    <tr>\n",
              "      <th>2</th>\n",
              "      <td>1874-03-07</td>\n",
              "      <td>Scotland</td>\n",
              "      <td>England</td>\n",
              "      <td>2</td>\n",
              "      <td>1</td>\n",
              "      <td>Friendly</td>\n",
              "      <td>Glasgow</td>\n",
              "      <td>Scotland</td>\n",
              "      <td>False</td>\n",
              "    </tr>\n",
              "    <tr>\n",
              "      <th>3</th>\n",
              "      <td>1875-03-06</td>\n",
              "      <td>England</td>\n",
              "      <td>Scotland</td>\n",
              "      <td>2</td>\n",
              "      <td>2</td>\n",
              "      <td>Friendly</td>\n",
              "      <td>London</td>\n",
              "      <td>England</td>\n",
              "      <td>False</td>\n",
              "    </tr>\n",
              "    <tr>\n",
              "      <th>4</th>\n",
              "      <td>1876-03-04</td>\n",
              "      <td>Scotland</td>\n",
              "      <td>England</td>\n",
              "      <td>3</td>\n",
              "      <td>0</td>\n",
              "      <td>Friendly</td>\n",
              "      <td>Glasgow</td>\n",
              "      <td>Scotland</td>\n",
              "      <td>False</td>\n",
              "    </tr>\n",
              "  </tbody>\n",
              "</table>\n",
              "</div>"
            ],
            "text/plain": [
              "         date home_team away_team  ...     city   country neutral\n",
              "0  1872-11-30  Scotland   England  ...  Glasgow  Scotland   False\n",
              "1  1873-03-08   England  Scotland  ...   London   England   False\n",
              "2  1874-03-07  Scotland   England  ...  Glasgow  Scotland   False\n",
              "3  1875-03-06   England  Scotland  ...   London   England   False\n",
              "4  1876-03-04  Scotland   England  ...  Glasgow  Scotland   False\n",
              "\n",
              "[5 rows x 9 columns]"
            ]
          },
          "metadata": {},
          "execution_count": 15
        }
      ]
    },
    {
      "cell_type": "code",
      "metadata": {
        "colab": {
          "base_uri": "https://localhost:8080/",
          "height": 309
        },
        "id": "sZc65Ck4yUlk",
        "outputId": "7af60fb8-b7d0-4c72-814d-7c24a58140ad"
      },
      "source": [
        "# Previewing the bottom of ranking\n",
        "ranking.tail()"
      ],
      "execution_count": 16,
      "outputs": [
        {
          "output_type": "execute_result",
          "data": {
            "text/html": [
              "<div>\n",
              "<style scoped>\n",
              "    .dataframe tbody tr th:only-of-type {\n",
              "        vertical-align: middle;\n",
              "    }\n",
              "\n",
              "    .dataframe tbody tr th {\n",
              "        vertical-align: top;\n",
              "    }\n",
              "\n",
              "    .dataframe thead th {\n",
              "        text-align: right;\n",
              "    }\n",
              "</style>\n",
              "<table border=\"1\" class=\"dataframe\">\n",
              "  <thead>\n",
              "    <tr style=\"text-align: right;\">\n",
              "      <th></th>\n",
              "      <th>rank</th>\n",
              "      <th>country_full</th>\n",
              "      <th>country_abrv</th>\n",
              "      <th>total_points</th>\n",
              "      <th>previous_points</th>\n",
              "      <th>rank_change</th>\n",
              "      <th>cur_year_avg</th>\n",
              "      <th>cur_year_avg_weighted</th>\n",
              "      <th>last_year_avg</th>\n",
              "      <th>last_year_avg_weighted</th>\n",
              "      <th>two_year_ago_avg</th>\n",
              "      <th>two_year_ago_weighted</th>\n",
              "      <th>three_year_ago_avg</th>\n",
              "      <th>three_year_ago_weighted</th>\n",
              "      <th>confederation</th>\n",
              "      <th>rank_date</th>\n",
              "    </tr>\n",
              "  </thead>\n",
              "  <tbody>\n",
              "    <tr>\n",
              "      <th>57788</th>\n",
              "      <td>206</td>\n",
              "      <td>Anguilla</td>\n",
              "      <td>AIA</td>\n",
              "      <td>0.0</td>\n",
              "      <td>0</td>\n",
              "      <td>1</td>\n",
              "      <td>0.0</td>\n",
              "      <td>0.0</td>\n",
              "      <td>0.0</td>\n",
              "      <td>0.0</td>\n",
              "      <td>0.0</td>\n",
              "      <td>0.0</td>\n",
              "      <td>0.0</td>\n",
              "      <td>0.0</td>\n",
              "      <td>CONCACAF</td>\n",
              "      <td>2018-06-07</td>\n",
              "    </tr>\n",
              "    <tr>\n",
              "      <th>57789</th>\n",
              "      <td>206</td>\n",
              "      <td>Bahamas</td>\n",
              "      <td>BAH</td>\n",
              "      <td>0.0</td>\n",
              "      <td>0</td>\n",
              "      <td>1</td>\n",
              "      <td>0.0</td>\n",
              "      <td>0.0</td>\n",
              "      <td>0.0</td>\n",
              "      <td>0.0</td>\n",
              "      <td>0.0</td>\n",
              "      <td>0.0</td>\n",
              "      <td>0.0</td>\n",
              "      <td>0.0</td>\n",
              "      <td>CONCACAF</td>\n",
              "      <td>2018-06-07</td>\n",
              "    </tr>\n",
              "    <tr>\n",
              "      <th>57790</th>\n",
              "      <td>206</td>\n",
              "      <td>Eritrea</td>\n",
              "      <td>ERI</td>\n",
              "      <td>0.0</td>\n",
              "      <td>0</td>\n",
              "      <td>1</td>\n",
              "      <td>0.0</td>\n",
              "      <td>0.0</td>\n",
              "      <td>0.0</td>\n",
              "      <td>0.0</td>\n",
              "      <td>0.0</td>\n",
              "      <td>0.0</td>\n",
              "      <td>0.0</td>\n",
              "      <td>0.0</td>\n",
              "      <td>CAF</td>\n",
              "      <td>2018-06-07</td>\n",
              "    </tr>\n",
              "    <tr>\n",
              "      <th>57791</th>\n",
              "      <td>206</td>\n",
              "      <td>Somalia</td>\n",
              "      <td>SOM</td>\n",
              "      <td>0.0</td>\n",
              "      <td>0</td>\n",
              "      <td>1</td>\n",
              "      <td>0.0</td>\n",
              "      <td>0.0</td>\n",
              "      <td>0.0</td>\n",
              "      <td>0.0</td>\n",
              "      <td>0.0</td>\n",
              "      <td>0.0</td>\n",
              "      <td>0.0</td>\n",
              "      <td>0.0</td>\n",
              "      <td>CAF</td>\n",
              "      <td>2018-06-07</td>\n",
              "    </tr>\n",
              "    <tr>\n",
              "      <th>57792</th>\n",
              "      <td>206</td>\n",
              "      <td>Tonga</td>\n",
              "      <td>TGA</td>\n",
              "      <td>0.0</td>\n",
              "      <td>0</td>\n",
              "      <td>1</td>\n",
              "      <td>0.0</td>\n",
              "      <td>0.0</td>\n",
              "      <td>0.0</td>\n",
              "      <td>0.0</td>\n",
              "      <td>0.0</td>\n",
              "      <td>0.0</td>\n",
              "      <td>0.0</td>\n",
              "      <td>0.0</td>\n",
              "      <td>OFC</td>\n",
              "      <td>2018-06-07</td>\n",
              "    </tr>\n",
              "  </tbody>\n",
              "</table>\n",
              "</div>"
            ],
            "text/plain": [
              "       rank country_full  ... confederation   rank_date\n",
              "57788   206     Anguilla  ...      CONCACAF  2018-06-07\n",
              "57789   206      Bahamas  ...      CONCACAF  2018-06-07\n",
              "57790   206      Eritrea  ...           CAF  2018-06-07\n",
              "57791   206      Somalia  ...           CAF  2018-06-07\n",
              "57792   206        Tonga  ...           OFC  2018-06-07\n",
              "\n",
              "[5 rows x 16 columns]"
            ]
          },
          "metadata": {},
          "execution_count": 16
        }
      ]
    },
    {
      "cell_type": "code",
      "metadata": {
        "colab": {
          "base_uri": "https://localhost:8080/",
          "height": 204
        },
        "id": "cbQMSGsWLqBl",
        "outputId": "dc19d971-96a9-48a8-d9d4-d6afd6ddaa59"
      },
      "source": [
        "# Previewing the bottom of results\n",
        "results.tail()"
      ],
      "execution_count": 17,
      "outputs": [
        {
          "output_type": "execute_result",
          "data": {
            "text/html": [
              "<div>\n",
              "<style scoped>\n",
              "    .dataframe tbody tr th:only-of-type {\n",
              "        vertical-align: middle;\n",
              "    }\n",
              "\n",
              "    .dataframe tbody tr th {\n",
              "        vertical-align: top;\n",
              "    }\n",
              "\n",
              "    .dataframe thead th {\n",
              "        text-align: right;\n",
              "    }\n",
              "</style>\n",
              "<table border=\"1\" class=\"dataframe\">\n",
              "  <thead>\n",
              "    <tr style=\"text-align: right;\">\n",
              "      <th></th>\n",
              "      <th>date</th>\n",
              "      <th>home_team</th>\n",
              "      <th>away_team</th>\n",
              "      <th>home_score</th>\n",
              "      <th>away_score</th>\n",
              "      <th>tournament</th>\n",
              "      <th>city</th>\n",
              "      <th>country</th>\n",
              "      <th>neutral</th>\n",
              "    </tr>\n",
              "  </thead>\n",
              "  <tbody>\n",
              "    <tr>\n",
              "      <th>40834</th>\n",
              "      <td>2019-07-18</td>\n",
              "      <td>American Samoa</td>\n",
              "      <td>Tahiti</td>\n",
              "      <td>8</td>\n",
              "      <td>1</td>\n",
              "      <td>Pacific Games</td>\n",
              "      <td>Apia</td>\n",
              "      <td>Samoa</td>\n",
              "      <td>True</td>\n",
              "    </tr>\n",
              "    <tr>\n",
              "      <th>40835</th>\n",
              "      <td>2019-07-18</td>\n",
              "      <td>Fiji</td>\n",
              "      <td>Solomon Islands</td>\n",
              "      <td>4</td>\n",
              "      <td>4</td>\n",
              "      <td>Pacific Games</td>\n",
              "      <td>Apia</td>\n",
              "      <td>Samoa</td>\n",
              "      <td>True</td>\n",
              "    </tr>\n",
              "    <tr>\n",
              "      <th>40836</th>\n",
              "      <td>2019-07-19</td>\n",
              "      <td>Senegal</td>\n",
              "      <td>Algeria</td>\n",
              "      <td>0</td>\n",
              "      <td>1</td>\n",
              "      <td>African Cup of Nations</td>\n",
              "      <td>Cairo</td>\n",
              "      <td>Egypt</td>\n",
              "      <td>True</td>\n",
              "    </tr>\n",
              "    <tr>\n",
              "      <th>40837</th>\n",
              "      <td>2019-07-19</td>\n",
              "      <td>Tajikistan</td>\n",
              "      <td>North Korea</td>\n",
              "      <td>0</td>\n",
              "      <td>1</td>\n",
              "      <td>Intercontinental Cup</td>\n",
              "      <td>Ahmedabad</td>\n",
              "      <td>India</td>\n",
              "      <td>True</td>\n",
              "    </tr>\n",
              "    <tr>\n",
              "      <th>40838</th>\n",
              "      <td>2019-07-20</td>\n",
              "      <td>Papua New Guinea</td>\n",
              "      <td>Fiji</td>\n",
              "      <td>1</td>\n",
              "      <td>1</td>\n",
              "      <td>Pacific Games</td>\n",
              "      <td>Apia</td>\n",
              "      <td>Samoa</td>\n",
              "      <td>True</td>\n",
              "    </tr>\n",
              "  </tbody>\n",
              "</table>\n",
              "</div>"
            ],
            "text/plain": [
              "             date         home_team  ... country  neutral\n",
              "40834  2019-07-18    American Samoa  ...   Samoa     True\n",
              "40835  2019-07-18              Fiji  ...   Samoa     True\n",
              "40836  2019-07-19           Senegal  ...   Egypt     True\n",
              "40837  2019-07-19        Tajikistan  ...   India     True\n",
              "40838  2019-07-20  Papua New Guinea  ...   Samoa     True\n",
              "\n",
              "[5 rows x 9 columns]"
            ]
          },
          "metadata": {},
          "execution_count": 17
        }
      ]
    },
    {
      "cell_type": "markdown",
      "metadata": {
        "id": "xn_JGUpgKfGy"
      },
      "source": [
        "# 4. Data preparation"
      ]
    },
    {
      "cell_type": "markdown",
      "metadata": {
        "id": "URBQxPkmKnj7"
      },
      "source": [
        "## 4.1 Dropping irrelevant columns"
      ]
    },
    {
      "cell_type": "code",
      "metadata": {
        "id": "vZBMjKp0K8KW"
      },
      "source": [
        "ranking.drop(labels=['country_abrv', 'total_points', 'previous_points', 'rank_change', 'cur_year_avg', 'cur_year_avg_weighted', 'last_year_avg', \n",
        "                     'last_year_avg_weighted', 'two_year_ago_avg', 'two_year_ago_weighted', 'three_year_ago_avg', 'three_year_ago_weighted', 'confederation'],\n",
        "             axis=1, inplace=True)"
      ],
      "execution_count": 18,
      "outputs": []
    },
    {
      "cell_type": "code",
      "metadata": {
        "id": "_dy40kDKL_XB"
      },
      "source": [
        "results.drop(labels=['city', 'country', 'neutral'], axis=1, inplace=True)"
      ],
      "execution_count": 19,
      "outputs": []
    },
    {
      "cell_type": "markdown",
      "metadata": {
        "id": "OJzxse2uPaMe"
      },
      "source": [
        "## 4.2 Column types"
      ]
    },
    {
      "cell_type": "code",
      "metadata": {
        "id": "vBd6Jt9aPm2Y"
      },
      "source": [
        "# Converting the date column type to datetime\n",
        "ranking['rank_date'] = pd.to_datetime(ranking['rank_date'])"
      ],
      "execution_count": 20,
      "outputs": []
    },
    {
      "cell_type": "code",
      "metadata": {
        "id": "BwbqLlmoQUum"
      },
      "source": [
        "results['date'] = pd.to_datetime(results['date'])"
      ],
      "execution_count": 21,
      "outputs": []
    },
    {
      "cell_type": "markdown",
      "metadata": {
        "id": "QlbBx_e0Me0F"
      },
      "source": [
        "## 4.3 Checking for missing data"
      ]
    },
    {
      "cell_type": "code",
      "metadata": {
        "id": "2UK5T_IrMFTa"
      },
      "source": [
        "def missing(df):\n",
        "  # Creating a dataframe showing percentage of missing values\n",
        "  percentage = ((df.isnull().sum() / len(df)) * 100).sort_values(ascending=False).to_frame()\n",
        "\n",
        "  # Renaming the column\n",
        "  percentage.columns = ['Percentage Missing']\n",
        "\n",
        "  # Returning a dataframe with the percentage of missing values\n",
        "  return percentage"
      ],
      "execution_count": 22,
      "outputs": []
    },
    {
      "cell_type": "code",
      "metadata": {
        "colab": {
          "base_uri": "https://localhost:8080/",
          "height": 142
        },
        "id": "gnNorhpVMV_D",
        "outputId": "86b7b135-a4ca-44ca-c913-ec60752b973b"
      },
      "source": [
        "missing(ranking)"
      ],
      "execution_count": 24,
      "outputs": [
        {
          "output_type": "execute_result",
          "data": {
            "text/html": [
              "<div>\n",
              "<style scoped>\n",
              "    .dataframe tbody tr th:only-of-type {\n",
              "        vertical-align: middle;\n",
              "    }\n",
              "\n",
              "    .dataframe tbody tr th {\n",
              "        vertical-align: top;\n",
              "    }\n",
              "\n",
              "    .dataframe thead th {\n",
              "        text-align: right;\n",
              "    }\n",
              "</style>\n",
              "<table border=\"1\" class=\"dataframe\">\n",
              "  <thead>\n",
              "    <tr style=\"text-align: right;\">\n",
              "      <th></th>\n",
              "      <th>Percentage Missing</th>\n",
              "    </tr>\n",
              "  </thead>\n",
              "  <tbody>\n",
              "    <tr>\n",
              "      <th>rank_date</th>\n",
              "      <td>0.0</td>\n",
              "    </tr>\n",
              "    <tr>\n",
              "      <th>country_full</th>\n",
              "      <td>0.0</td>\n",
              "    </tr>\n",
              "    <tr>\n",
              "      <th>rank</th>\n",
              "      <td>0.0</td>\n",
              "    </tr>\n",
              "  </tbody>\n",
              "</table>\n",
              "</div>"
            ],
            "text/plain": [
              "              Percentage Missing\n",
              "rank_date                    0.0\n",
              "country_full                 0.0\n",
              "rank                         0.0"
            ]
          },
          "metadata": {},
          "execution_count": 24
        }
      ]
    },
    {
      "cell_type": "code",
      "metadata": {
        "colab": {
          "base_uri": "https://localhost:8080/",
          "height": 235
        },
        "id": "bvJbGb0GMeXL",
        "outputId": "7040efa7-7c34-4b98-8d36-831948081f97"
      },
      "source": [
        "missing(results)"
      ],
      "execution_count": 25,
      "outputs": [
        {
          "output_type": "execute_result",
          "data": {
            "text/html": [
              "<div>\n",
              "<style scoped>\n",
              "    .dataframe tbody tr th:only-of-type {\n",
              "        vertical-align: middle;\n",
              "    }\n",
              "\n",
              "    .dataframe tbody tr th {\n",
              "        vertical-align: top;\n",
              "    }\n",
              "\n",
              "    .dataframe thead th {\n",
              "        text-align: right;\n",
              "    }\n",
              "</style>\n",
              "<table border=\"1\" class=\"dataframe\">\n",
              "  <thead>\n",
              "    <tr style=\"text-align: right;\">\n",
              "      <th></th>\n",
              "      <th>Percentage Missing</th>\n",
              "    </tr>\n",
              "  </thead>\n",
              "  <tbody>\n",
              "    <tr>\n",
              "      <th>tournament</th>\n",
              "      <td>0.0</td>\n",
              "    </tr>\n",
              "    <tr>\n",
              "      <th>away_score</th>\n",
              "      <td>0.0</td>\n",
              "    </tr>\n",
              "    <tr>\n",
              "      <th>home_score</th>\n",
              "      <td>0.0</td>\n",
              "    </tr>\n",
              "    <tr>\n",
              "      <th>away_team</th>\n",
              "      <td>0.0</td>\n",
              "    </tr>\n",
              "    <tr>\n",
              "      <th>home_team</th>\n",
              "      <td>0.0</td>\n",
              "    </tr>\n",
              "    <tr>\n",
              "      <th>date</th>\n",
              "      <td>0.0</td>\n",
              "    </tr>\n",
              "  </tbody>\n",
              "</table>\n",
              "</div>"
            ],
            "text/plain": [
              "            Percentage Missing\n",
              "tournament                 0.0\n",
              "away_score                 0.0\n",
              "home_score                 0.0\n",
              "away_team                  0.0\n",
              "home_team                  0.0\n",
              "date                       0.0"
            ]
          },
          "metadata": {},
          "execution_count": 25
        }
      ]
    },
    {
      "cell_type": "markdown",
      "metadata": {
        "id": "BO1ouYraNJVt"
      },
      "source": [
        "## 4.4 Checking for duplicates"
      ]
    },
    {
      "cell_type": "code",
      "metadata": {
        "colab": {
          "base_uri": "https://localhost:8080/"
        },
        "id": "m7kYFxIjNOrz",
        "outputId": "de7635b4-5a1d-4278-d894-5c84e0995d1e"
      },
      "source": [
        "ranking.duplicated().sum()"
      ],
      "execution_count": 26,
      "outputs": [
        {
          "output_type": "execute_result",
          "data": {
            "text/plain": [
              "38"
            ]
          },
          "metadata": {},
          "execution_count": 26
        }
      ]
    },
    {
      "cell_type": "code",
      "metadata": {
        "colab": {
          "base_uri": "https://localhost:8080/"
        },
        "id": "5riFF_H0N47z",
        "outputId": "d621ce9d-ff7a-4a8e-a2f0-780c0a81ac47"
      },
      "source": [
        "results.duplicated().sum()"
      ],
      "execution_count": 27,
      "outputs": [
        {
          "output_type": "execute_result",
          "data": {
            "text/plain": [
              "1"
            ]
          },
          "metadata": {},
          "execution_count": 27
        }
      ]
    },
    {
      "cell_type": "code",
      "metadata": {
        "colab": {
          "base_uri": "https://localhost:8080/",
          "height": 1000
        },
        "id": "QNbsI3yNO2vy",
        "outputId": "4dafb457-4c58-44be-b910-0b956ff56419"
      },
      "source": [
        "# Checking the duplicated records\n",
        "ranking[ranking.duplicated()]"
      ],
      "execution_count": 28,
      "outputs": [
        {
          "output_type": "execute_result",
          "data": {
            "text/html": [
              "<div>\n",
              "<style scoped>\n",
              "    .dataframe tbody tr th:only-of-type {\n",
              "        vertical-align: middle;\n",
              "    }\n",
              "\n",
              "    .dataframe tbody tr th {\n",
              "        vertical-align: top;\n",
              "    }\n",
              "\n",
              "    .dataframe thead th {\n",
              "        text-align: right;\n",
              "    }\n",
              "</style>\n",
              "<table border=\"1\" class=\"dataframe\">\n",
              "  <thead>\n",
              "    <tr style=\"text-align: right;\">\n",
              "      <th></th>\n",
              "      <th>rank</th>\n",
              "      <th>country_full</th>\n",
              "      <th>rank_date</th>\n",
              "    </tr>\n",
              "  </thead>\n",
              "  <tbody>\n",
              "    <tr>\n",
              "      <th>19889</th>\n",
              "      <td>112</td>\n",
              "      <td>Sudan</td>\n",
              "      <td>2003-02-19</td>\n",
              "    </tr>\n",
              "    <tr>\n",
              "      <th>41320</th>\n",
              "      <td>113</td>\n",
              "      <td>Sudan</td>\n",
              "      <td>2011-12-21</td>\n",
              "    </tr>\n",
              "    <tr>\n",
              "      <th>41536</th>\n",
              "      <td>120</td>\n",
              "      <td>Sudan</td>\n",
              "      <td>2012-01-18</td>\n",
              "    </tr>\n",
              "    <tr>\n",
              "      <th>41736</th>\n",
              "      <td>111</td>\n",
              "      <td>Sudan</td>\n",
              "      <td>2012-02-15</td>\n",
              "    </tr>\n",
              "    <tr>\n",
              "      <th>41944</th>\n",
              "      <td>110</td>\n",
              "      <td>Sudan</td>\n",
              "      <td>2012-03-07</td>\n",
              "    </tr>\n",
              "    <tr>\n",
              "      <th>42157</th>\n",
              "      <td>113</td>\n",
              "      <td>Sudan</td>\n",
              "      <td>2012-04-11</td>\n",
              "    </tr>\n",
              "    <tr>\n",
              "      <th>42366</th>\n",
              "      <td>113</td>\n",
              "      <td>Sudan</td>\n",
              "      <td>2012-05-09</td>\n",
              "    </tr>\n",
              "    <tr>\n",
              "      <th>42562</th>\n",
              "      <td>101</td>\n",
              "      <td>Sudan</td>\n",
              "      <td>2012-06-06</td>\n",
              "    </tr>\n",
              "    <tr>\n",
              "      <th>42775</th>\n",
              "      <td>105</td>\n",
              "      <td>Sudan</td>\n",
              "      <td>2012-07-04</td>\n",
              "    </tr>\n",
              "    <tr>\n",
              "      <th>42983</th>\n",
              "      <td>104</td>\n",
              "      <td>Sudan</td>\n",
              "      <td>2012-08-08</td>\n",
              "    </tr>\n",
              "    <tr>\n",
              "      <th>43193</th>\n",
              "      <td>103</td>\n",
              "      <td>Sudan</td>\n",
              "      <td>2012-09-05</td>\n",
              "    </tr>\n",
              "    <tr>\n",
              "      <th>43399</th>\n",
              "      <td>100</td>\n",
              "      <td>Sudan</td>\n",
              "      <td>2012-10-03</td>\n",
              "    </tr>\n",
              "    <tr>\n",
              "      <th>43611</th>\n",
              "      <td>102</td>\n",
              "      <td>Sudan</td>\n",
              "      <td>2012-11-07</td>\n",
              "    </tr>\n",
              "    <tr>\n",
              "      <th>43821</th>\n",
              "      <td>101</td>\n",
              "      <td>Sudan</td>\n",
              "      <td>2012-12-19</td>\n",
              "    </tr>\n",
              "    <tr>\n",
              "      <th>44029</th>\n",
              "      <td>100</td>\n",
              "      <td>Sudan</td>\n",
              "      <td>2013-01-17</td>\n",
              "    </tr>\n",
              "    <tr>\n",
              "      <th>44243</th>\n",
              "      <td>104</td>\n",
              "      <td>Sudan</td>\n",
              "      <td>2013-02-14</td>\n",
              "    </tr>\n",
              "    <tr>\n",
              "      <th>44476</th>\n",
              "      <td>127</td>\n",
              "      <td>Sudan</td>\n",
              "      <td>2013-03-14</td>\n",
              "    </tr>\n",
              "    <tr>\n",
              "      <th>44692</th>\n",
              "      <td>133</td>\n",
              "      <td>Sudan</td>\n",
              "      <td>2013-04-11</td>\n",
              "    </tr>\n",
              "    <tr>\n",
              "      <th>44903</th>\n",
              "      <td>134</td>\n",
              "      <td>Sudan</td>\n",
              "      <td>2013-05-09</td>\n",
              "    </tr>\n",
              "    <tr>\n",
              "      <th>45114</th>\n",
              "      <td>135</td>\n",
              "      <td>Sudan</td>\n",
              "      <td>2013-06-06</td>\n",
              "    </tr>\n",
              "    <tr>\n",
              "      <th>45324</th>\n",
              "      <td>134</td>\n",
              "      <td>Sudan</td>\n",
              "      <td>2013-07-04</td>\n",
              "    </tr>\n",
              "    <tr>\n",
              "      <th>45534</th>\n",
              "      <td>135</td>\n",
              "      <td>Sudan</td>\n",
              "      <td>2013-08-08</td>\n",
              "    </tr>\n",
              "    <tr>\n",
              "      <th>45749</th>\n",
              "      <td>140</td>\n",
              "      <td>Sudan</td>\n",
              "      <td>2013-09-12</td>\n",
              "    </tr>\n",
              "    <tr>\n",
              "      <th>45955</th>\n",
              "      <td>136</td>\n",
              "      <td>Sudan</td>\n",
              "      <td>2013-10-17</td>\n",
              "    </tr>\n",
              "    <tr>\n",
              "      <th>46160</th>\n",
              "      <td>130</td>\n",
              "      <td>Sudan</td>\n",
              "      <td>2013-11-28</td>\n",
              "    </tr>\n",
              "    <tr>\n",
              "      <th>46358</th>\n",
              "      <td>119</td>\n",
              "      <td>Sudan</td>\n",
              "      <td>2013-12-19</td>\n",
              "    </tr>\n",
              "    <tr>\n",
              "      <th>46568</th>\n",
              "      <td>119</td>\n",
              "      <td>Sudan</td>\n",
              "      <td>2014-01-16</td>\n",
              "    </tr>\n",
              "    <tr>\n",
              "      <th>46782</th>\n",
              "      <td>123</td>\n",
              "      <td>Sudan</td>\n",
              "      <td>2014-02-13</td>\n",
              "    </tr>\n",
              "    <tr>\n",
              "      <th>46991</th>\n",
              "      <td>122</td>\n",
              "      <td>Sudan</td>\n",
              "      <td>2014-03-13</td>\n",
              "    </tr>\n",
              "    <tr>\n",
              "      <th>47196</th>\n",
              "      <td>117</td>\n",
              "      <td>Sudan</td>\n",
              "      <td>2014-04-10</td>\n",
              "    </tr>\n",
              "    <tr>\n",
              "      <th>47406</th>\n",
              "      <td>117</td>\n",
              "      <td>Sudan</td>\n",
              "      <td>2014-05-08</td>\n",
              "    </tr>\n",
              "    <tr>\n",
              "      <th>47619</th>\n",
              "      <td>120</td>\n",
              "      <td>Sudan</td>\n",
              "      <td>2014-06-05</td>\n",
              "    </tr>\n",
              "    <tr>\n",
              "      <th>47824</th>\n",
              "      <td>115</td>\n",
              "      <td>Sudan</td>\n",
              "      <td>2014-07-17</td>\n",
              "    </tr>\n",
              "    <tr>\n",
              "      <th>48035</th>\n",
              "      <td>115</td>\n",
              "      <td>Sudan</td>\n",
              "      <td>2014-08-14</td>\n",
              "    </tr>\n",
              "    <tr>\n",
              "      <th>48262</th>\n",
              "      <td>133</td>\n",
              "      <td>Sudan</td>\n",
              "      <td>2014-09-18</td>\n",
              "    </tr>\n",
              "    <tr>\n",
              "      <th>48446</th>\n",
              "      <td>107</td>\n",
              "      <td>Sudan</td>\n",
              "      <td>2014-10-23</td>\n",
              "    </tr>\n",
              "    <tr>\n",
              "      <th>48664</th>\n",
              "      <td>115</td>\n",
              "      <td>Sudan</td>\n",
              "      <td>2014-11-27</td>\n",
              "    </tr>\n",
              "    <tr>\n",
              "      <th>48869</th>\n",
              "      <td>110</td>\n",
              "      <td>Sudan</td>\n",
              "      <td>2014-12-18</td>\n",
              "    </tr>\n",
              "  </tbody>\n",
              "</table>\n",
              "</div>"
            ],
            "text/plain": [
              "       rank country_full  rank_date\n",
              "19889   112        Sudan 2003-02-19\n",
              "41320   113        Sudan 2011-12-21\n",
              "41536   120        Sudan 2012-01-18\n",
              "41736   111        Sudan 2012-02-15\n",
              "41944   110        Sudan 2012-03-07\n",
              "42157   113        Sudan 2012-04-11\n",
              "42366   113        Sudan 2012-05-09\n",
              "42562   101        Sudan 2012-06-06\n",
              "42775   105        Sudan 2012-07-04\n",
              "42983   104        Sudan 2012-08-08\n",
              "43193   103        Sudan 2012-09-05\n",
              "43399   100        Sudan 2012-10-03\n",
              "43611   102        Sudan 2012-11-07\n",
              "43821   101        Sudan 2012-12-19\n",
              "44029   100        Sudan 2013-01-17\n",
              "44243   104        Sudan 2013-02-14\n",
              "44476   127        Sudan 2013-03-14\n",
              "44692   133        Sudan 2013-04-11\n",
              "44903   134        Sudan 2013-05-09\n",
              "45114   135        Sudan 2013-06-06\n",
              "45324   134        Sudan 2013-07-04\n",
              "45534   135        Sudan 2013-08-08\n",
              "45749   140        Sudan 2013-09-12\n",
              "45955   136        Sudan 2013-10-17\n",
              "46160   130        Sudan 2013-11-28\n",
              "46358   119        Sudan 2013-12-19\n",
              "46568   119        Sudan 2014-01-16\n",
              "46782   123        Sudan 2014-02-13\n",
              "46991   122        Sudan 2014-03-13\n",
              "47196   117        Sudan 2014-04-10\n",
              "47406   117        Sudan 2014-05-08\n",
              "47619   120        Sudan 2014-06-05\n",
              "47824   115        Sudan 2014-07-17\n",
              "48035   115        Sudan 2014-08-14\n",
              "48262   133        Sudan 2014-09-18\n",
              "48446   107        Sudan 2014-10-23\n",
              "48664   115        Sudan 2014-11-27\n",
              "48869   110        Sudan 2014-12-18"
            ]
          },
          "metadata": {},
          "execution_count": 28
        }
      ]
    },
    {
      "cell_type": "code",
      "metadata": {
        "colab": {
          "base_uri": "https://localhost:8080/",
          "height": 80
        },
        "id": "4ZUMOOn2PDH6",
        "outputId": "17ce2185-2694-4003-91b7-13f5e8400621"
      },
      "source": [
        "results[results.duplicated()]"
      ],
      "execution_count": 29,
      "outputs": [
        {
          "output_type": "execute_result",
          "data": {
            "text/html": [
              "<div>\n",
              "<style scoped>\n",
              "    .dataframe tbody tr th:only-of-type {\n",
              "        vertical-align: middle;\n",
              "    }\n",
              "\n",
              "    .dataframe tbody tr th {\n",
              "        vertical-align: top;\n",
              "    }\n",
              "\n",
              "    .dataframe thead th {\n",
              "        text-align: right;\n",
              "    }\n",
              "</style>\n",
              "<table border=\"1\" class=\"dataframe\">\n",
              "  <thead>\n",
              "    <tr style=\"text-align: right;\">\n",
              "      <th></th>\n",
              "      <th>date</th>\n",
              "      <th>home_team</th>\n",
              "      <th>away_team</th>\n",
              "      <th>home_score</th>\n",
              "      <th>away_score</th>\n",
              "      <th>tournament</th>\n",
              "    </tr>\n",
              "  </thead>\n",
              "  <tbody>\n",
              "    <tr>\n",
              "      <th>35243</th>\n",
              "      <td>2013-06-22</td>\n",
              "      <td>Monaco</td>\n",
              "      <td>Vatican City</td>\n",
              "      <td>2</td>\n",
              "      <td>0</td>\n",
              "      <td>Friendly</td>\n",
              "    </tr>\n",
              "  </tbody>\n",
              "</table>\n",
              "</div>"
            ],
            "text/plain": [
              "            date home_team     away_team  home_score  away_score tournament\n",
              "35243 2013-06-22    Monaco  Vatican City           2           0   Friendly"
            ]
          },
          "metadata": {},
          "execution_count": 29
        }
      ]
    },
    {
      "cell_type": "markdown",
      "metadata": {
        "id": "CUuDDEd0Mp9N"
      },
      "source": [
        "The duplicates returned aren't actual duplicates so we won't drop them"
      ]
    },
    {
      "cell_type": "markdown",
      "metadata": {
        "id": "r2lGJXuNRMzR"
      },
      "source": [
        "## 4.5 Other cleaning procedures"
      ]
    },
    {
      "cell_type": "code",
      "metadata": {
        "id": "irBrnlKPRdo9"
      },
      "source": [
        "# Dropping rows in results before 8/1993 and after 6/7/2018 as we don't have rankings for those periods\n",
        "results = results[(results['date'] > '8/8/1993') & (results['date'] < '6/7/2018')]"
      ],
      "execution_count": 30,
      "outputs": []
    },
    {
      "cell_type": "code",
      "metadata": {
        "colab": {
          "base_uri": "https://localhost:8080/",
          "height": 204
        },
        "id": "jZQmieRvXnJM",
        "outputId": "b7e7c595-2ca5-4667-f81b-d13d8227fd5d"
      },
      "source": [
        "# Creating a new column home result that shows whether the home team won, lost or drew\n",
        "# This will be used in logistic regression\n",
        "#\n",
        "# Specifying the conditions for a win, loss and draw\n",
        "conditions = [\n",
        "              (results['home_score'] > results['away_score']),\n",
        "              (results['home_score'] < results['away_score']),\n",
        "              (results['home_score'] == results['away_score'])\n",
        "]\n",
        "# 2-win, 1-draw, 0-loss\n",
        "values = [2, 0, 1]\n",
        "\n",
        "# \n",
        "results['home_result'] = np.select(conditions, values)\n",
        "\n",
        "results.head()"
      ],
      "execution_count": 31,
      "outputs": [
        {
          "output_type": "execute_result",
          "data": {
            "text/html": [
              "<div>\n",
              "<style scoped>\n",
              "    .dataframe tbody tr th:only-of-type {\n",
              "        vertical-align: middle;\n",
              "    }\n",
              "\n",
              "    .dataframe tbody tr th {\n",
              "        vertical-align: top;\n",
              "    }\n",
              "\n",
              "    .dataframe thead th {\n",
              "        text-align: right;\n",
              "    }\n",
              "</style>\n",
              "<table border=\"1\" class=\"dataframe\">\n",
              "  <thead>\n",
              "    <tr style=\"text-align: right;\">\n",
              "      <th></th>\n",
              "      <th>date</th>\n",
              "      <th>home_team</th>\n",
              "      <th>away_team</th>\n",
              "      <th>home_score</th>\n",
              "      <th>away_score</th>\n",
              "      <th>tournament</th>\n",
              "      <th>home_result</th>\n",
              "    </tr>\n",
              "  </thead>\n",
              "  <tbody>\n",
              "    <tr>\n",
              "      <th>17922</th>\n",
              "      <td>1993-08-09</td>\n",
              "      <td>Guinea</td>\n",
              "      <td>Sierra Leone</td>\n",
              "      <td>4</td>\n",
              "      <td>0</td>\n",
              "      <td>Friendly</td>\n",
              "      <td>2</td>\n",
              "    </tr>\n",
              "    <tr>\n",
              "      <th>17923</th>\n",
              "      <td>1993-08-11</td>\n",
              "      <td>Faroe Islands</td>\n",
              "      <td>Norway</td>\n",
              "      <td>0</td>\n",
              "      <td>7</td>\n",
              "      <td>Friendly</td>\n",
              "      <td>0</td>\n",
              "    </tr>\n",
              "    <tr>\n",
              "      <th>17924</th>\n",
              "      <td>1993-08-11</td>\n",
              "      <td>Sweden</td>\n",
              "      <td>Switzerland</td>\n",
              "      <td>1</td>\n",
              "      <td>2</td>\n",
              "      <td>Friendly</td>\n",
              "      <td>0</td>\n",
              "    </tr>\n",
              "    <tr>\n",
              "      <th>17925</th>\n",
              "      <td>1993-08-15</td>\n",
              "      <td>Australia</td>\n",
              "      <td>Canada</td>\n",
              "      <td>2</td>\n",
              "      <td>1</td>\n",
              "      <td>FIFA World Cup qualification</td>\n",
              "      <td>2</td>\n",
              "    </tr>\n",
              "    <tr>\n",
              "      <th>17926</th>\n",
              "      <td>1993-08-15</td>\n",
              "      <td>Bolivia</td>\n",
              "      <td>Ecuador</td>\n",
              "      <td>1</td>\n",
              "      <td>0</td>\n",
              "      <td>FIFA World Cup qualification</td>\n",
              "      <td>2</td>\n",
              "    </tr>\n",
              "  </tbody>\n",
              "</table>\n",
              "</div>"
            ],
            "text/plain": [
              "            date      home_team  ...                    tournament  home_result\n",
              "17922 1993-08-09         Guinea  ...                      Friendly            2\n",
              "17923 1993-08-11  Faroe Islands  ...                      Friendly            0\n",
              "17924 1993-08-11         Sweden  ...                      Friendly            0\n",
              "17925 1993-08-15      Australia  ...  FIFA World Cup qualification            2\n",
              "17926 1993-08-15        Bolivia  ...  FIFA World Cup qualification            2\n",
              "\n",
              "[5 rows x 7 columns]"
            ]
          },
          "metadata": {},
          "execution_count": 31
        }
      ]
    },
    {
      "cell_type": "code",
      "metadata": {
        "id": "DoAEXRgpcF5t"
      },
      "source": [
        "# We need to find out a team's rank on the date it played a specific match\n",
        "# Rankings are more or less updated monthly so we need to match a team with its rank on the month and year it played\n",
        "# To do this we modify the dates in both datasets to show the month and year only (we don't need the day)\n",
        "ranking['rank_date'] = ranking['rank_date'].dt.strftime('%Y-%m')\n",
        "results['date'] = results['date'].dt.strftime('%Y-%m')"
      ],
      "execution_count": 33,
      "outputs": []
    },
    {
      "cell_type": "code",
      "metadata": {
        "id": "IMx-gnCtepDr"
      },
      "source": [
        "# Next we merge the two datasets on the date and home team name to find the rank of the home team when it played a match\n",
        "new_df = pd.merge(results, ranking,  how='left', left_on=['date','home_team'], right_on = ['rank_date','country_full'])"
      ],
      "execution_count": 36,
      "outputs": []
    },
    {
      "cell_type": "code",
      "metadata": {
        "id": "iOU-PAmvPlZH"
      },
      "source": [
        "# We do the same thing but now with the away team name to find its rank when it played a match\n",
        "new_df1 = pd.merge(new_df, ranking,  how='left', left_on=['date','away_team'], right_on = ['rank_date','country_full'])"
      ],
      "execution_count": 38,
      "outputs": []
    },
    {
      "cell_type": "code",
      "metadata": {
        "colab": {
          "base_uri": "https://localhost:8080/",
          "height": 452
        },
        "id": "eUUxIdWTP21R",
        "outputId": "48715038-540a-4b15-97c5-1d2d687ec0b4"
      },
      "source": [
        "# There will be some missing values since some teams played matches when the rankings weren't updated in that month or the team name does not match\n",
        "# the country name\n",
        "# Finding out what percerntage is missing because of this\n",
        "missing(new_df1)"
      ],
      "execution_count": 40,
      "outputs": [
        {
          "output_type": "execute_result",
          "data": {
            "text/html": [
              "<div>\n",
              "<style scoped>\n",
              "    .dataframe tbody tr th:only-of-type {\n",
              "        vertical-align: middle;\n",
              "    }\n",
              "\n",
              "    .dataframe tbody tr th {\n",
              "        vertical-align: top;\n",
              "    }\n",
              "\n",
              "    .dataframe thead th {\n",
              "        text-align: right;\n",
              "    }\n",
              "</style>\n",
              "<table border=\"1\" class=\"dataframe\">\n",
              "  <thead>\n",
              "    <tr style=\"text-align: right;\">\n",
              "      <th></th>\n",
              "      <th>Percentage Missing</th>\n",
              "    </tr>\n",
              "  </thead>\n",
              "  <tbody>\n",
              "    <tr>\n",
              "      <th>rank_date_y</th>\n",
              "      <td>16.005794</td>\n",
              "    </tr>\n",
              "    <tr>\n",
              "      <th>country_full_y</th>\n",
              "      <td>16.005794</td>\n",
              "    </tr>\n",
              "    <tr>\n",
              "      <th>rank_y</th>\n",
              "      <td>16.005794</td>\n",
              "    </tr>\n",
              "    <tr>\n",
              "      <th>rank_date_x</th>\n",
              "      <td>15.593880</td>\n",
              "    </tr>\n",
              "    <tr>\n",
              "      <th>country_full_x</th>\n",
              "      <td>15.593880</td>\n",
              "    </tr>\n",
              "    <tr>\n",
              "      <th>rank_x</th>\n",
              "      <td>15.593880</td>\n",
              "    </tr>\n",
              "    <tr>\n",
              "      <th>home_result</th>\n",
              "      <td>0.000000</td>\n",
              "    </tr>\n",
              "    <tr>\n",
              "      <th>tournament</th>\n",
              "      <td>0.000000</td>\n",
              "    </tr>\n",
              "    <tr>\n",
              "      <th>away_score</th>\n",
              "      <td>0.000000</td>\n",
              "    </tr>\n",
              "    <tr>\n",
              "      <th>home_score</th>\n",
              "      <td>0.000000</td>\n",
              "    </tr>\n",
              "    <tr>\n",
              "      <th>away_team</th>\n",
              "      <td>0.000000</td>\n",
              "    </tr>\n",
              "    <tr>\n",
              "      <th>home_team</th>\n",
              "      <td>0.000000</td>\n",
              "    </tr>\n",
              "    <tr>\n",
              "      <th>date</th>\n",
              "      <td>0.000000</td>\n",
              "    </tr>\n",
              "  </tbody>\n",
              "</table>\n",
              "</div>"
            ],
            "text/plain": [
              "                Percentage Missing\n",
              "rank_date_y              16.005794\n",
              "country_full_y           16.005794\n",
              "rank_y                   16.005794\n",
              "rank_date_x              15.593880\n",
              "country_full_x           15.593880\n",
              "rank_x                   15.593880\n",
              "home_result               0.000000\n",
              "tournament                0.000000\n",
              "away_score                0.000000\n",
              "home_score                0.000000\n",
              "away_team                 0.000000\n",
              "home_team                 0.000000\n",
              "date                      0.000000"
            ]
          },
          "metadata": {},
          "execution_count": 40
        }
      ]
    },
    {
      "cell_type": "code",
      "metadata": {
        "id": "bBq0qxmIQltX"
      },
      "source": [
        "# We will drop these missing records \n",
        "matches = new_df1.dropna(axis=0)"
      ],
      "execution_count": 41,
      "outputs": []
    },
    {
      "cell_type": "code",
      "metadata": {
        "colab": {
          "base_uri": "https://localhost:8080/"
        },
        "id": "gsKhcHA-Q3IH",
        "outputId": "74110a45-5aba-4868-8a7c-467bca6be22c"
      },
      "source": [
        "matches.shape"
      ],
      "execution_count": 42,
      "outputs": [
        {
          "output_type": "execute_result",
          "data": {
            "text/plain": [
              "(16879, 13)"
            ]
          },
          "metadata": {},
          "execution_count": 42
        }
      ]
    },
    {
      "cell_type": "markdown",
      "metadata": {
        "id": "ekkYZZoBRDQw"
      },
      "source": [
        "Despite the large number of missing values we still have a lot of data left for modelling. "
      ]
    },
    {
      "cell_type": "code",
      "metadata": {
        "id": "tzfx7DVBRQsg"
      },
      "source": [
        "# Renaming the columns\n",
        "matches = matches.rename({'rank_x' : 'home_rank', 'rank_y' : 'away_rank'}, axis=1)"
      ],
      "execution_count": 44,
      "outputs": []
    },
    {
      "cell_type": "code",
      "metadata": {
        "id": "RBi_th6SRyne"
      },
      "source": [
        "# Dropping uneccessary columns\n",
        "matches.drop(labels=['country_full_x', 'rank_date_x', 'country_full_y', 'rank_date_y'], axis=1, inplace=True)"
      ],
      "execution_count": 47,
      "outputs": []
    },
    {
      "cell_type": "markdown",
      "metadata": {
        "id": "gXvW_5qrChXz"
      },
      "source": [
        "# 5. Exploratory Data Analysis"
      ]
    },
    {
      "cell_type": "code",
      "metadata": {
        "colab": {
          "base_uri": "https://localhost:8080/"
        },
        "id": "_GVOkICxDE_3",
        "outputId": "4b331b7a-a9ba-4059-d9df-4fac3298a6a7"
      },
      "source": [
        "# Mode of home team goals scored\n",
        "results['home_score'].mode()"
      ],
      "execution_count": 67,
      "outputs": [
        {
          "output_type": "execute_result",
          "data": {
            "text/plain": [
              "0    1\n",
              "dtype: int64"
            ]
          },
          "metadata": {},
          "execution_count": 67
        }
      ]
    },
    {
      "cell_type": "markdown",
      "metadata": {
        "id": "YdZ9pCTPSMow"
      },
      "source": [
        "The home team scores only 1 goal in most of the matches"
      ]
    },
    {
      "cell_type": "code",
      "metadata": {
        "id": "4ZLlXaVGSqYL"
      },
      "source": [
        "def chart_elements(title, xlabel, ylabel):\n",
        "  plt.title(title)\n",
        "  plt.xlabel(xlabel)\n",
        "  plt.ylabel(ylabel)\n",
        "  return plt.show()"
      ],
      "execution_count": 50,
      "outputs": []
    },
    {
      "cell_type": "code",
      "metadata": {
        "colab": {
          "base_uri": "https://localhost:8080/",
          "height": 295
        },
        "id": "IItBrKuySLGZ",
        "outputId": "0d326eed-33c3-41dd-ab51-4ede8f8da791"
      },
      "source": [
        "# Visualizing other home scores\n",
        "sns.barplot(x=results['home_score'].value_counts().index, y=results['home_score'].value_counts())\n",
        "chart_elements('Frequency of home score', 'Goals scored', 'Frequency')"
      ],
      "execution_count": 51,
      "outputs": [
        {
          "output_type": "display_data",
          "data": {
            "image/png": "[encoded data removed]",
            "text/plain": [
              "<Figure size 432x288 with 1 Axes>"
            ]
          },
          "metadata": {
            "needs_background": "light"
          }
        }
      ]
    },
    {
      "cell_type": "code",
      "metadata": {
        "colab": {
          "base_uri": "https://localhost:8080/"
        },
        "id": "ozItrCEPDnOJ",
        "outputId": "205ce570-7836-4488-8d77-5f84993b257e"
      },
      "source": [
        "# Mode of away team goals scored\n",
        "results['away_score'].mode()"
      ],
      "execution_count": 53,
      "outputs": [
        {
          "output_type": "execute_result",
          "data": {
            "text/plain": [
              "0    0\n",
              "dtype: int64"
            ]
          },
          "metadata": {},
          "execution_count": 53
        }
      ]
    },
    {
      "cell_type": "markdown",
      "metadata": {
        "id": "qhMxE1HVTLpG"
      },
      "source": [
        "The away team scores zero goals in most of the matches"
      ]
    },
    {
      "cell_type": "code",
      "metadata": {
        "colab": {
          "base_uri": "https://localhost:8080/",
          "height": 295
        },
        "id": "AKY0MBoLECou",
        "outputId": "6a4c0cf9-e325-45c1-c990-9e0f352ab5bf"
      },
      "source": [
        "# Visualizing other away scores\n",
        "sns.barplot(x=results['away_score'].value_counts().index, y=results['away_score'].value_counts())\n",
        "chart_elements('Frequency of away score', 'Goals scored', 'Frequency')"
      ],
      "execution_count": 54,
      "outputs": [
        {
          "output_type": "display_data",
          "data": {
            "image/png": "[encoded data removed]",
            "text/plain": [
              "<Figure size 432x288 with 1 Axes>"
            ]
          },
          "metadata": {
            "needs_background": "light"
          }
        }
      ]
    },
    {
      "cell_type": "code",
      "metadata": {
        "colab": {
          "base_uri": "https://localhost:8080/",
          "height": 346
        },
        "id": "LBLa_hPzE_JQ",
        "outputId": "b0baa225-2bfb-4b1a-884a-80b92890b4bc"
      },
      "source": [
        "# Which team has been ranked first the most times?\n",
        "sns.barplot(x=ranking[ranking['rank'] == 1]['country_full'].value_counts().index, y=ranking[ranking['rank'] == 1]['country_full'].value_counts())\n",
        "plt.xticks(rotation='vertical')\n",
        "chart_elements('Team that have been ranked first the most times', 'Country', 'Frequency')"
      ],
      "execution_count": 56,
      "outputs": [
        {
          "output_type": "display_data",
          "data": {
            "image/png": "[encoded data removed]",
            "text/plain": [
              "<Figure size 432x288 with 1 Axes>"
            ]
          },
          "metadata": {
            "needs_background": "light"
          }
        }
      ]
    },
    {
      "cell_type": "markdown",
      "metadata": {
        "id": "Qlitu6XxUT2d"
      },
      "source": [
        "Brazil has been ranked first the most times therefore it's probably been the best national side over the years"
      ]
    },
    {
      "cell_type": "markdown",
      "metadata": {
        "id": "hgFup8yXJ59O"
      },
      "source": [
        "# 6. Polynomial Approach"
      ]
    },
    {
      "cell_type": "markdown",
      "metadata": {
        "id": "twG5DYpAZzWL"
      },
      "source": [
        "Checking for multicollinearity"
      ]
    },
    {
      "cell_type": "code",
      "metadata": {
        "id": "84lhGNTMaIc8"
      },
      "source": [
        "# Correlation matrix for the numerical variables\n",
        "correlations = matches.corr()"
      ],
      "execution_count": 57,
      "outputs": []
    },
    {
      "cell_type": "code",
      "metadata": {
        "colab": {
          "base_uri": "https://localhost:8080/",
          "height": 204
        },
        "id": "nOC5jXjAbcW9",
        "outputId": "63d37d24-0183-4865-fd8a-6a2b041b9dd5"
      },
      "source": [
        "# Calculating VIF\n",
        "pd.DataFrame(np.linalg.inv(correlations.values), index = correlations.index, columns=correlations.columns)"
      ],
      "execution_count": 58,
      "outputs": [
        {
          "output_type": "execute_result",
          "data": {
            "text/html": [
              "<div>\n",
              "<style scoped>\n",
              "    .dataframe tbody tr th:only-of-type {\n",
              "        vertical-align: middle;\n",
              "    }\n",
              "\n",
              "    .dataframe tbody tr th {\n",
              "        vertical-align: top;\n",
              "    }\n",
              "\n",
              "    .dataframe thead th {\n",
              "        text-align: right;\n",
              "    }\n",
              "</style>\n",
              "<table border=\"1\" class=\"dataframe\">\n",
              "  <thead>\n",
              "    <tr style=\"text-align: right;\">\n",
              "      <th></th>\n",
              "      <th>home_score</th>\n",
              "      <th>away_score</th>\n",
              "      <th>home_result</th>\n",
              "      <th>home_rank</th>\n",
              "      <th>away_rank</th>\n",
              "    </tr>\n",
              "  </thead>\n",
              "  <tbody>\n",
              "    <tr>\n",
              "      <th>home_score</th>\n",
              "      <td>1.883303</td>\n",
              "      <td>-0.697937</td>\n",
              "      <td>-1.324108</td>\n",
              "      <td>0.356699</td>\n",
              "      <td>-0.522753</td>\n",
              "    </tr>\n",
              "    <tr>\n",
              "      <th>away_score</th>\n",
              "      <td>-0.697937</td>\n",
              "      <td>1.941376</td>\n",
              "      <td>1.462769</td>\n",
              "      <td>-0.348018</td>\n",
              "      <td>0.325574</td>\n",
              "    </tr>\n",
              "    <tr>\n",
              "      <th>home_result</th>\n",
              "      <td>-1.324108</td>\n",
              "      <td>1.462769</td>\n",
              "      <td>2.810869</td>\n",
              "      <td>0.227177</td>\n",
              "      <td>-0.207184</td>\n",
              "    </tr>\n",
              "    <tr>\n",
              "      <th>home_rank</th>\n",
              "      <td>0.356699</td>\n",
              "      <td>-0.348018</td>\n",
              "      <td>0.227177</td>\n",
              "      <td>1.651025</td>\n",
              "      <td>-1.012515</td>\n",
              "    </tr>\n",
              "    <tr>\n",
              "      <th>away_rank</th>\n",
              "      <td>-0.522753</td>\n",
              "      <td>0.325574</td>\n",
              "      <td>-0.207184</td>\n",
              "      <td>-1.012515</td>\n",
              "      <td>1.757084</td>\n",
              "    </tr>\n",
              "  </tbody>\n",
              "</table>\n",
              "</div>"
            ],
            "text/plain": [
              "             home_score  away_score  home_result  home_rank  away_rank\n",
              "home_score     1.883303   -0.697937    -1.324108   0.356699  -0.522753\n",
              "away_score    -0.697937    1.941376     1.462769  -0.348018   0.325574\n",
              "home_result   -1.324108    1.462769     2.810869   0.227177  -0.207184\n",
              "home_rank      0.356699   -0.348018     0.227177   1.651025  -1.012515\n",
              "away_rank     -0.522753    0.325574    -0.207184  -1.012515   1.757084"
            ]
          },
          "metadata": {},
          "execution_count": 58
        }
      ]
    },
    {
      "cell_type": "markdown",
      "metadata": {
        "id": "EoojmbrDcc3C"
      },
      "source": [
        "None of the variables have a VIF score greater than 10 so multicollinearity will not be a problem in our model"
      ]
    },
    {
      "cell_type": "markdown",
      "metadata": {
        "id": "yVF2BJ_XJ_6X"
      },
      "source": [
        "## 6.1 Predicting how many goals the home team scores\n",
        "\n",
        "### 6.1.1 Building the model"
      ]
    },
    {
      "cell_type": "code",
      "metadata": {
        "id": "rX6j7RTJJ5Z9"
      },
      "source": [
        "# We will use the home team rank to model how many goals the home team scores\n",
        "home_rank = matches.iloc[:, -2:-1].values\n",
        "home_score = matches.iloc[:,3:4].values"
      ],
      "execution_count": 59,
      "outputs": []
    },
    {
      "cell_type": "code",
      "metadata": {
        "colab": {
          "base_uri": "https://localhost:8080/"
        },
        "id": "d6SPKx3LPXjR",
        "outputId": "6ab0e1e2-b2d9-4367-db37-cb161ce4b528"
      },
      "source": [
        "from sklearn.preprocessing import PolynomialFeatures\n",
        "from sklearn.linear_model import LinearRegression\n",
        "from sklearn.model_selection import train_test_split\n",
        "from sklearn import metrics\n",
        "\n",
        "# Splitting the dataset into train and test sets\n",
        "home_rank_train, home_rank_test, home_score_train, home_score_test = train_test_split(home_rank, home_score, test_size = 0.2, random_state=0)\n",
        "\n",
        "# Fitting a polynomial regression with a degree of 2 to the dataset\n",
        "poly = PolynomialFeatures(degree = 2) \n",
        "home_rank_train_poly = poly.fit_transform(home_rank_train)\n",
        "home_rank_test_poly = poly.transform(home_rank_test)\n",
        "\n",
        "poly_reg = LinearRegression()\n",
        "poly_reg.fit(home_rank_train_poly, home_score_train)\n",
        "\n",
        "# Predicting the home score test set  \n",
        "home_score_pred = poly_reg.predict(home_rank_test_poly)\n",
        "\n",
        "# Finding the root mean squared error for our model\n",
        "print('Root Mean Squared Error for our model is' , np.sqrt(metrics.mean_squared_error(home_score_test, home_score_pred))) "
      ],
      "execution_count": 60,
      "outputs": [
        {
          "output_type": "stream",
          "name": "stdout",
          "text": [
            "Root Mean Squared Error for our model is 1.5924936304293293\n"
          ]
        }
      ]
    },
    {
      "cell_type": "markdown",
      "metadata": {
        "id": "1oppcY-EjOad"
      },
      "source": [
        "### 6.1.2 Cross validation"
      ]
    },
    {
      "cell_type": "code",
      "metadata": {
        "colab": {
          "base_uri": "https://localhost:8080/"
        },
        "id": "H5UTHJWpZusK",
        "outputId": "c7baeadc-c901-4e4e-cd65-42f6e00190f8"
      },
      "source": [
        "from sklearn.model_selection import KFold\n",
        "folds = KFold(n_splits=5)\n",
        "\n",
        "RMSES = [] # We will use this array to keep track of the RSME of each model\n",
        "count =  1\n",
        "for train_index, test_index in folds.split(home_rank):\n",
        "  print('\\nTraining model ' + str(count))\n",
        "  \n",
        "  # Setting up the train and test based on the split determined by KFold\n",
        "  home_rank_train, home_rank_test = home_rank[train_index], home_rank[test_index]\n",
        "  home_score_train, home_score_test = home_score[train_index], home_score[test_index]\n",
        "\n",
        "  # Fitting a polynomial regression with a degree of 2 to the dataset\n",
        "  poly = PolynomialFeatures(degree = 2) \n",
        "  home_rank_train_poly = poly.fit_transform(home_rank_train)\n",
        "  home_rank_test_poly = poly.transform(home_rank_test)\n",
        "  \n",
        "  poly_reg = LinearRegression()\n",
        "  poly_reg.fit(home_rank_train_poly, home_score_train)\n",
        "  \n",
        "  # Assessing the accuraccy of the model\n",
        "  home_score_pred = poly_reg.predict(home_rank_test_poly)\n",
        "  \n",
        "  rmse_value =  np.sqrt(metrics.mean_squared_error(home_score_test, home_score_pred))\n",
        "  RMSES.append(rmse_value)\n",
        "  \n",
        "  print('Model ' + str(count) + ' Root Mean Squared Error:',rmse_value)\n",
        "  count = count + 1"
      ],
      "execution_count": 62,
      "outputs": [
        {
          "output_type": "stream",
          "name": "stdout",
          "text": [
            "\n",
            "Training model 1\n",
            "Model 1 Root Mean Squared Error: 1.6500401221264456\n",
            "\n",
            "Training model 2\n",
            "Model 2 Root Mean Squared Error: 1.8108296256685577\n",
            "\n",
            "Training model 3\n",
            "Model 3 Root Mean Squared Error: 1.5316936749949628\n",
            "\n",
            "Training model 4\n",
            "Model 4 Root Mean Squared Error: 1.5063821437180946\n",
            "\n",
            "Training model 5\n",
            "Model 5 Root Mean Squared Error: 1.4822539235197518\n"
          ]
        }
      ]
    },
    {
      "cell_type": "markdown",
      "metadata": {
        "id": "c088fHv1a4nu"
      },
      "source": [
        "The RMSE in model 1 and model 2 are fairly larger compared to the others suggesting that there are more outliers in their test sets."
      ]
    },
    {
      "cell_type": "markdown",
      "metadata": {
        "id": "F7MlUKDuw20l"
      },
      "source": [
        "### 6.1.3 Residual plots and heteroskedasticity testing\n",
        "\n"
      ]
    },
    {
      "cell_type": "code",
      "metadata": {
        "colab": {
          "base_uri": "https://localhost:8080/",
          "height": 279
        },
        "id": "1Ht2XcHgw67j",
        "outputId": "ea942c8d-5eab-49b2-bcd0-4028950dca26"
      },
      "source": [
        "# Calculating the residuals\n",
        "residuals = np.subtract(home_score_pred, home_score_test)\n",
        "\n",
        "# Plotting a residual plot\n",
        "plt.scatter(home_score_pred, residuals, color='black')\n",
        "plt.ylabel('residual')\n",
        "plt.xlabel('fitted values')\n",
        "plt.axhline(y= residuals.mean(), color='red', linewidth=1)\n",
        "plt.show()"
      ],
      "execution_count": 63,
      "outputs": [
        {
          "output_type": "display_data",
          "data": {
            "image/png": "[encoded data removed]",
            "text/plain": [
              "<Figure size 432x288 with 1 Axes>"
            ]
          },
          "metadata": {
            "needs_background": "light"
          }
        }
      ]
    },
    {
      "cell_type": "code",
      "metadata": {
        "colab": {
          "base_uri": "https://localhost:8080/"
        },
        "id": "ep9bUgfdyXJs",
        "outputId": "2c897d1f-a32d-4fca-c3cb-e360815696fa"
      },
      "source": [
        "# Performing bartlett's test for heteroscedasticity\n",
        "test_result, p_value = sp.stats.bartlett(home_score_pred.flatten(), residuals.flatten())\n",
        "if p_value < 0.05:\n",
        "  print('Reject null therefore variances are heteroscedastic')\n",
        "else:\n",
        "  print('Do not reject null therefore variances are homoscedastic')"
      ],
      "execution_count": 64,
      "outputs": [
        {
          "output_type": "stream",
          "name": "stdout",
          "text": [
            "Reject null therefore variances are heteroscedastic\n"
          ]
        }
      ]
    },
    {
      "cell_type": "markdown",
      "metadata": {
        "id": "OY2blY3hcqMc"
      },
      "source": [
        "The variances of the error terms vary significantly therefore our model is poorly defined and should be modified. "
      ]
    },
    {
      "cell_type": "markdown",
      "metadata": {
        "id": "NeIHfFu51rD-"
      },
      "source": [
        "## 6.2 Predicting how many goals the away team scores"
      ]
    },
    {
      "cell_type": "markdown",
      "metadata": {
        "id": "EwC40i6rdenX"
      },
      "source": [
        "### 6.2.1 Building the model"
      ]
    },
    {
      "cell_type": "code",
      "metadata": {
        "id": "dvJ3yR2m2F-k"
      },
      "source": [
        "# We will use the away team rank to model how many goals the away team scores\n",
        "away_rank = matches.iloc[:, -1:].values\n",
        "away_score = matches.iloc[:,4:5].values"
      ],
      "execution_count": 65,
      "outputs": []
    },
    {
      "cell_type": "code",
      "metadata": {
        "colab": {
          "base_uri": "https://localhost:8080/"
        },
        "id": "woK5iHg5do3e",
        "outputId": "59850528-a144-44b8-cd0a-df80b647699a"
      },
      "source": [
        "# Splitting the dataset into train and test sets\n",
        "away_rank_train, away_rank_test, away_score_train, away_score_test = train_test_split(away_rank, away_score, test_size = 0.2, random_state=0)\n",
        "\n",
        "# Fitting a polynomial regression with a degree of 2 to the dataset\n",
        "poly = PolynomialFeatures(degree = 2) \n",
        "away_rank_train_poly = poly.fit_transform(away_rank_train)\n",
        "away_rank_test_poly = poly.transform(away_rank_test)\n",
        "\n",
        "poly_reg = LinearRegression()\n",
        "poly_reg.fit(away_rank_train_poly, away_score_train)\n",
        "\n",
        "# Predicting the home score test set  \n",
        "away_score_pred = poly_reg.predict(away_rank_test_poly)\n",
        "\n",
        "# Finding the root mean squared error for our model\n",
        "print('Root Mean Squared Error for our model is' , np.sqrt(metrics.mean_squared_error(home_score_test, home_score_pred))) "
      ],
      "execution_count": 66,
      "outputs": [
        {
          "output_type": "stream",
          "name": "stdout",
          "text": [
            "Root Mean Squared Error for our model is 1.4822539235197518\n"
          ]
        }
      ]
    },
    {
      "cell_type": "markdown",
      "metadata": {
        "id": "IGLfgikVeiYK"
      },
      "source": [
        "### 6.2.2 Cross validation"
      ]
    },
    {
      "cell_type": "code",
      "metadata": {
        "colab": {
          "base_uri": "https://localhost:8080/"
        },
        "id": "TyNskTafeoL8",
        "outputId": "00732e44-eda1-4882-ace7-7164950abd1c"
      },
      "source": [
        "folds = KFold(n_splits=5)\n",
        "\n",
        "RMSES = [] # We will use this array to keep track of the RSME of each model\n",
        "count =  1\n",
        "for train_index, test_index in folds.split(away_rank):\n",
        "  print('\\nTraining model ' + str(count))\n",
        "  \n",
        "  # Setting up the train and test based on the split determined by KFold\n",
        "  away_rank_train, away_rank_test = away_rank[train_index], away_rank[test_index]\n",
        "  away_score_train, away_score_test = away_score[train_index], away_score[test_index]\n",
        "\n",
        "  # Fitting a polynomial regression with a degree of 2 to the dataset\n",
        "  poly = PolynomialFeatures(degree = 2) \n",
        "  away_rank_train_poly = poly.fit_transform(away_rank_train)\n",
        "  away_rank_test_poly = poly.transform(away_rank_test)\n",
        "  \n",
        "  poly_reg = LinearRegression()\n",
        "  poly_reg.fit(away_rank_train_poly, away_score_train)\n",
        "  \n",
        "  # Assessing the accuraccy of the model\n",
        "  away_score_pred = poly_reg.predict(away_rank_test_poly)\n",
        "  \n",
        "  rmse_value =  np.sqrt(metrics.mean_squared_error(away_score_test, away_score_pred))\n",
        "  RMSES.append(rmse_value)\n",
        "  \n",
        "  print('Model ' + str(count) + ' Root Mean Squared Error:',rmse_value)\n",
        "  count = count + 1"
      ],
      "execution_count": 67,
      "outputs": [
        {
          "output_type": "stream",
          "name": "stdout",
          "text": [
            "\n",
            "Training model 1\n",
            "Model 1 Root Mean Squared Error: 1.2281652590932373\n",
            "\n",
            "Training model 2\n",
            "Model 2 Root Mean Squared Error: 1.2448972443186033\n",
            "\n",
            "Training model 3\n",
            "Model 3 Root Mean Squared Error: 1.2682056569402758\n",
            "\n",
            "Training model 4\n",
            "Model 4 Root Mean Squared Error: 1.1916387524610825\n",
            "\n",
            "Training model 5\n",
            "Model 5 Root Mean Squared Error: 1.1779083226105396\n"
          ]
        }
      ]
    },
    {
      "cell_type": "markdown",
      "metadata": {
        "id": "3k1aiMzAfQla"
      },
      "source": [
        "Our initial RMSE is fairly large compared to the ones above showing that there were more outliers in our initial test set"
      ]
    },
    {
      "cell_type": "markdown",
      "metadata": {
        "id": "86hVrHEF4Ekb"
      },
      "source": [
        "### 6.2.3 Residual plots and heteroskedasticity testing"
      ]
    },
    {
      "cell_type": "code",
      "metadata": {
        "colab": {
          "base_uri": "https://localhost:8080/",
          "height": 279
        },
        "id": "6qqAOm_P4Fwg",
        "outputId": "1cdb74ec-6bc4-4995-c0ca-e73bba0e3706"
      },
      "source": [
        "# Calculating the residuals\n",
        "residuals = np.subtract(away_score_pred, away_score_test)\n",
        "\n",
        "# Plotting the residual plot\n",
        "plt.scatter(away_score_pred, residuals, color='black')\n",
        "plt.ylabel('residual')\n",
        "plt.xlabel('fitted values')\n",
        "plt.axhline(y= residuals.mean(), color='red', linewidth=1)\n",
        "plt.show()"
      ],
      "execution_count": 68,
      "outputs": [
        {
          "output_type": "display_data",
          "data": {
            "image/png": "[encoded data removed]",
            "text/plain": [
              "<Figure size 432x288 with 1 Axes>"
            ]
          },
          "metadata": {
            "needs_background": "light"
          }
        }
      ]
    },
    {
      "cell_type": "code",
      "metadata": {
        "colab": {
          "base_uri": "https://localhost:8080/"
        },
        "id": "H0rMJ8Ne4fUU",
        "outputId": "eee5f19c-64f6-4a03-9d43-639905bedb9f"
      },
      "source": [
        "# Performing bartlett's test for heteroscedasticity\n",
        "test_result, p_value = sp.stats.bartlett(away_score_pred.flatten(), residuals.flatten())\n",
        "if p_value < 0.05:\n",
        "  print('Reject null therefore variances are heteroscedastic')\n",
        "else:\n",
        "  print('Do not reject null therefore variances are homoscedastic')"
      ],
      "execution_count": 69,
      "outputs": [
        {
          "output_type": "stream",
          "name": "stdout",
          "text": [
            "Reject null therefore variances are heteroscedastic\n"
          ]
        }
      ]
    },
    {
      "cell_type": "markdown",
      "metadata": {
        "id": "axFqilbKgXCG"
      },
      "source": [
        "The variances of the error terms vary significantly therefore our model is poorly defined and should be modified."
      ]
    },
    {
      "cell_type": "markdown",
      "metadata": {
        "id": "-FdZ9ohSgffX"
      },
      "source": [
        "We could make improvements to the polynomial model by dropping outliers from our datasets?"
      ]
    },
    {
      "cell_type": "markdown",
      "metadata": {
        "id": "JuFxaWEh4mTN"
      },
      "source": [
        "# 7. Logistic approach"
      ]
    },
    {
      "cell_type": "code",
      "metadata": {
        "colab": {
          "base_uri": "https://localhost:8080/",
          "height": 275
        },
        "id": "0yvTdCgB4rEd",
        "outputId": "9c8cfdcb-cf01-44f5-f07e-679c92a55db3"
      },
      "source": [
        "# Hot encoding the tournament variable and creating a new dataset with the variables we will need in logistic modelling\n",
        "matches_log = pd.get_dummies(matches[['home_rank', 'away_rank', 'tournament', 'home_result']], columns=['tournament'], drop_first=True)\n",
        "matches_log.head()"
      ],
      "execution_count": 70,
      "outputs": [
        {
          "output_type": "execute_result",
          "data": {
            "text/html": [
              "<div>\n",
              "<style scoped>\n",
              "    .dataframe tbody tr th:only-of-type {\n",
              "        vertical-align: middle;\n",
              "    }\n",
              "\n",
              "    .dataframe tbody tr th {\n",
              "        vertical-align: top;\n",
              "    }\n",
              "\n",
              "    .dataframe thead th {\n",
              "        text-align: right;\n",
              "    }\n",
              "</style>\n",
              "<table border=\"1\" class=\"dataframe\">\n",
              "  <thead>\n",
              "    <tr style=\"text-align: right;\">\n",
              "      <th></th>\n",
              "      <th>home_rank</th>\n",
              "      <th>away_rank</th>\n",
              "      <th>home_result</th>\n",
              "      <th>tournament_AFC Asian Cup</th>\n",
              "      <th>tournament_AFC Asian Cup qualification</th>\n",
              "      <th>tournament_AFC Challenge Cup</th>\n",
              "      <th>tournament_AFC Challenge Cup qualification</th>\n",
              "      <th>tournament_AFF Championship</th>\n",
              "      <th>tournament_African Cup of Nations</th>\n",
              "      <th>tournament_African Cup of Nations qualification</th>\n",
              "      <th>tournament_African Nations Championship</th>\n",
              "      <th>tournament_Amílcar Cabral Cup</th>\n",
              "      <th>tournament_Baltic Cup</th>\n",
              "      <th>tournament_CECAFA Cup</th>\n",
              "      <th>tournament_CFU Caribbean Cup</th>\n",
              "      <th>tournament_CFU Caribbean Cup qualification</th>\n",
              "      <th>tournament_COSAFA Cup</th>\n",
              "      <th>tournament_Confederations Cup</th>\n",
              "      <th>tournament_Copa América</th>\n",
              "      <th>tournament_Copa América qualification</th>\n",
              "      <th>tournament_Copa Paz del Chaco</th>\n",
              "      <th>tournament_Copa del Pacífico</th>\n",
              "      <th>tournament_Cyprus International Tournament</th>\n",
              "      <th>tournament_Dragon Cup</th>\n",
              "      <th>tournament_Dunhill Cup</th>\n",
              "      <th>tournament_Dynasty Cup</th>\n",
              "      <th>tournament_EAFF Championship</th>\n",
              "      <th>tournament_FIFA World Cup</th>\n",
              "      <th>tournament_FIFA World Cup qualification</th>\n",
              "      <th>tournament_Friendly</th>\n",
              "      <th>tournament_Gold Cup</th>\n",
              "      <th>tournament_Gold Cup qualification</th>\n",
              "      <th>tournament_Gulf Cup</th>\n",
              "      <th>tournament_Intercontinental Cup</th>\n",
              "      <th>tournament_King Hassan II Tournament</th>\n",
              "      <th>tournament_King's Cup</th>\n",
              "      <th>tournament_Kirin Cup</th>\n",
              "      <th>tournament_Korea Cup</th>\n",
              "      <th>tournament_Lunar New Year Cup</th>\n",
              "      <th>tournament_Malta International Tournament</th>\n",
              "      <th>tournament_Merdeka Tournament</th>\n",
              "      <th>tournament_Millennium Cup</th>\n",
              "      <th>tournament_Nations Cup</th>\n",
              "      <th>tournament_Nehru Cup</th>\n",
              "      <th>tournament_Nile Basin Tournament</th>\n",
              "      <th>tournament_Nordic Championship</th>\n",
              "      <th>tournament_OSN Cup</th>\n",
              "      <th>tournament_Oceania Nations Cup</th>\n",
              "      <th>tournament_Oceania Nations Cup qualification</th>\n",
              "      <th>tournament_Pacific Games</th>\n",
              "      <th>tournament_Prime Minister's Cup</th>\n",
              "      <th>tournament_SAFF Cup</th>\n",
              "      <th>tournament_SKN Football Festival</th>\n",
              "      <th>tournament_Simba Tournament</th>\n",
              "      <th>tournament_South Pacific Games</th>\n",
              "      <th>tournament_Tournoi de France</th>\n",
              "      <th>tournament_UAFA Cup</th>\n",
              "      <th>tournament_UAFA Cup qualification</th>\n",
              "      <th>tournament_UEFA Euro</th>\n",
              "      <th>tournament_UEFA Euro qualification</th>\n",
              "      <th>tournament_UNCAF Cup</th>\n",
              "      <th>tournament_UNIFFAC Cup</th>\n",
              "      <th>tournament_USA Cup</th>\n",
              "      <th>tournament_United Arab Emirates Friendship Tournament</th>\n",
              "      <th>tournament_VFF Cup</th>\n",
              "      <th>tournament_WAFF Championship</th>\n",
              "      <th>tournament_Windward Islands Tournament</th>\n",
              "    </tr>\n",
              "  </thead>\n",
              "  <tbody>\n",
              "    <tr>\n",
              "      <th>0</th>\n",
              "      <td>65.0</td>\n",
              "      <td>86.0</td>\n",
              "      <td>2</td>\n",
              "      <td>0</td>\n",
              "      <td>0</td>\n",
              "      <td>0</td>\n",
              "      <td>0</td>\n",
              "      <td>0</td>\n",
              "      <td>0</td>\n",
              "      <td>0</td>\n",
              "      <td>0</td>\n",
              "      <td>0</td>\n",
              "      <td>0</td>\n",
              "      <td>0</td>\n",
              "      <td>0</td>\n",
              "      <td>0</td>\n",
              "      <td>0</td>\n",
              "      <td>0</td>\n",
              "      <td>0</td>\n",
              "      <td>0</td>\n",
              "      <td>0</td>\n",
              "      <td>0</td>\n",
              "      <td>0</td>\n",
              "      <td>0</td>\n",
              "      <td>0</td>\n",
              "      <td>0</td>\n",
              "      <td>0</td>\n",
              "      <td>0</td>\n",
              "      <td>0</td>\n",
              "      <td>1</td>\n",
              "      <td>0</td>\n",
              "      <td>0</td>\n",
              "      <td>0</td>\n",
              "      <td>0</td>\n",
              "      <td>0</td>\n",
              "      <td>0</td>\n",
              "      <td>0</td>\n",
              "      <td>0</td>\n",
              "      <td>0</td>\n",
              "      <td>0</td>\n",
              "      <td>0</td>\n",
              "      <td>0</td>\n",
              "      <td>0</td>\n",
              "      <td>0</td>\n",
              "      <td>0</td>\n",
              "      <td>0</td>\n",
              "      <td>0</td>\n",
              "      <td>0</td>\n",
              "      <td>0</td>\n",
              "      <td>0</td>\n",
              "      <td>0</td>\n",
              "      <td>0</td>\n",
              "      <td>0</td>\n",
              "      <td>0</td>\n",
              "      <td>0</td>\n",
              "      <td>0</td>\n",
              "      <td>0</td>\n",
              "      <td>0</td>\n",
              "      <td>0</td>\n",
              "      <td>0</td>\n",
              "      <td>0</td>\n",
              "      <td>0</td>\n",
              "      <td>0</td>\n",
              "      <td>0</td>\n",
              "      <td>0</td>\n",
              "      <td>0</td>\n",
              "      <td>0</td>\n",
              "    </tr>\n",
              "    <tr>\n",
              "      <th>1</th>\n",
              "      <td>111.0</td>\n",
              "      <td>9.0</td>\n",
              "      <td>0</td>\n",
              "      <td>0</td>\n",
              "      <td>0</td>\n",
              "      <td>0</td>\n",
              "      <td>0</td>\n",
              "      <td>0</td>\n",
              "      <td>0</td>\n",
              "      <td>0</td>\n",
              "      <td>0</td>\n",
              "      <td>0</td>\n",
              "      <td>0</td>\n",
              "      <td>0</td>\n",
              "      <td>0</td>\n",
              "      <td>0</td>\n",
              "      <td>0</td>\n",
              "      <td>0</td>\n",
              "      <td>0</td>\n",
              "      <td>0</td>\n",
              "      <td>0</td>\n",
              "      <td>0</td>\n",
              "      <td>0</td>\n",
              "      <td>0</td>\n",
              "      <td>0</td>\n",
              "      <td>0</td>\n",
              "      <td>0</td>\n",
              "      <td>0</td>\n",
              "      <td>0</td>\n",
              "      <td>1</td>\n",
              "      <td>0</td>\n",
              "      <td>0</td>\n",
              "      <td>0</td>\n",
              "      <td>0</td>\n",
              "      <td>0</td>\n",
              "      <td>0</td>\n",
              "      <td>0</td>\n",
              "      <td>0</td>\n",
              "      <td>0</td>\n",
              "      <td>0</td>\n",
              "      <td>0</td>\n",
              "      <td>0</td>\n",
              "      <td>0</td>\n",
              "      <td>0</td>\n",
              "      <td>0</td>\n",
              "      <td>0</td>\n",
              "      <td>0</td>\n",
              "      <td>0</td>\n",
              "      <td>0</td>\n",
              "      <td>0</td>\n",
              "      <td>0</td>\n",
              "      <td>0</td>\n",
              "      <td>0</td>\n",
              "      <td>0</td>\n",
              "      <td>0</td>\n",
              "      <td>0</td>\n",
              "      <td>0</td>\n",
              "      <td>0</td>\n",
              "      <td>0</td>\n",
              "      <td>0</td>\n",
              "      <td>0</td>\n",
              "      <td>0</td>\n",
              "      <td>0</td>\n",
              "      <td>0</td>\n",
              "      <td>0</td>\n",
              "      <td>0</td>\n",
              "      <td>0</td>\n",
              "    </tr>\n",
              "    <tr>\n",
              "      <th>2</th>\n",
              "      <td>4.0</td>\n",
              "      <td>3.0</td>\n",
              "      <td>0</td>\n",
              "      <td>0</td>\n",
              "      <td>0</td>\n",
              "      <td>0</td>\n",
              "      <td>0</td>\n",
              "      <td>0</td>\n",
              "      <td>0</td>\n",
              "      <td>0</td>\n",
              "      <td>0</td>\n",
              "      <td>0</td>\n",
              "      <td>0</td>\n",
              "      <td>0</td>\n",
              "      <td>0</td>\n",
              "      <td>0</td>\n",
              "      <td>0</td>\n",
              "      <td>0</td>\n",
              "      <td>0</td>\n",
              "      <td>0</td>\n",
              "      <td>0</td>\n",
              "      <td>0</td>\n",
              "      <td>0</td>\n",
              "      <td>0</td>\n",
              "      <td>0</td>\n",
              "      <td>0</td>\n",
              "      <td>0</td>\n",
              "      <td>0</td>\n",
              "      <td>0</td>\n",
              "      <td>1</td>\n",
              "      <td>0</td>\n",
              "      <td>0</td>\n",
              "      <td>0</td>\n",
              "      <td>0</td>\n",
              "      <td>0</td>\n",
              "      <td>0</td>\n",
              "      <td>0</td>\n",
              "      <td>0</td>\n",
              "      <td>0</td>\n",
              "      <td>0</td>\n",
              "      <td>0</td>\n",
              "      <td>0</td>\n",
              "      <td>0</td>\n",
              "      <td>0</td>\n",
              "      <td>0</td>\n",
              "      <td>0</td>\n",
              "      <td>0</td>\n",
              "      <td>0</td>\n",
              "      <td>0</td>\n",
              "      <td>0</td>\n",
              "      <td>0</td>\n",
              "      <td>0</td>\n",
              "      <td>0</td>\n",
              "      <td>0</td>\n",
              "      <td>0</td>\n",
              "      <td>0</td>\n",
              "      <td>0</td>\n",
              "      <td>0</td>\n",
              "      <td>0</td>\n",
              "      <td>0</td>\n",
              "      <td>0</td>\n",
              "      <td>0</td>\n",
              "      <td>0</td>\n",
              "      <td>0</td>\n",
              "      <td>0</td>\n",
              "      <td>0</td>\n",
              "      <td>0</td>\n",
              "    </tr>\n",
              "    <tr>\n",
              "      <th>3</th>\n",
              "      <td>52.0</td>\n",
              "      <td>46.0</td>\n",
              "      <td>2</td>\n",
              "      <td>0</td>\n",
              "      <td>0</td>\n",
              "      <td>0</td>\n",
              "      <td>0</td>\n",
              "      <td>0</td>\n",
              "      <td>0</td>\n",
              "      <td>0</td>\n",
              "      <td>0</td>\n",
              "      <td>0</td>\n",
              "      <td>0</td>\n",
              "      <td>0</td>\n",
              "      <td>0</td>\n",
              "      <td>0</td>\n",
              "      <td>0</td>\n",
              "      <td>0</td>\n",
              "      <td>0</td>\n",
              "      <td>0</td>\n",
              "      <td>0</td>\n",
              "      <td>0</td>\n",
              "      <td>0</td>\n",
              "      <td>0</td>\n",
              "      <td>0</td>\n",
              "      <td>0</td>\n",
              "      <td>0</td>\n",
              "      <td>0</td>\n",
              "      <td>1</td>\n",
              "      <td>0</td>\n",
              "      <td>0</td>\n",
              "      <td>0</td>\n",
              "      <td>0</td>\n",
              "      <td>0</td>\n",
              "      <td>0</td>\n",
              "      <td>0</td>\n",
              "      <td>0</td>\n",
              "      <td>0</td>\n",
              "      <td>0</td>\n",
              "      <td>0</td>\n",
              "      <td>0</td>\n",
              "      <td>0</td>\n",
              "      <td>0</td>\n",
              "      <td>0</td>\n",
              "      <td>0</td>\n",
              "      <td>0</td>\n",
              "      <td>0</td>\n",
              "      <td>0</td>\n",
              "      <td>0</td>\n",
              "      <td>0</td>\n",
              "      <td>0</td>\n",
              "      <td>0</td>\n",
              "      <td>0</td>\n",
              "      <td>0</td>\n",
              "      <td>0</td>\n",
              "      <td>0</td>\n",
              "      <td>0</td>\n",
              "      <td>0</td>\n",
              "      <td>0</td>\n",
              "      <td>0</td>\n",
              "      <td>0</td>\n",
              "      <td>0</td>\n",
              "      <td>0</td>\n",
              "      <td>0</td>\n",
              "      <td>0</td>\n",
              "      <td>0</td>\n",
              "      <td>0</td>\n",
              "    </tr>\n",
              "    <tr>\n",
              "      <th>4</th>\n",
              "      <td>59.0</td>\n",
              "      <td>35.0</td>\n",
              "      <td>2</td>\n",
              "      <td>0</td>\n",
              "      <td>0</td>\n",
              "      <td>0</td>\n",
              "      <td>0</td>\n",
              "      <td>0</td>\n",
              "      <td>0</td>\n",
              "      <td>0</td>\n",
              "      <td>0</td>\n",
              "      <td>0</td>\n",
              "      <td>0</td>\n",
              "      <td>0</td>\n",
              "      <td>0</td>\n",
              "      <td>0</td>\n",
              "      <td>0</td>\n",
              "      <td>0</td>\n",
              "      <td>0</td>\n",
              "      <td>0</td>\n",
              "      <td>0</td>\n",
              "      <td>0</td>\n",
              "      <td>0</td>\n",
              "      <td>0</td>\n",
              "      <td>0</td>\n",
              "      <td>0</td>\n",
              "      <td>0</td>\n",
              "      <td>0</td>\n",
              "      <td>1</td>\n",
              "      <td>0</td>\n",
              "      <td>0</td>\n",
              "      <td>0</td>\n",
              "      <td>0</td>\n",
              "      <td>0</td>\n",
              "      <td>0</td>\n",
              "      <td>0</td>\n",
              "      <td>0</td>\n",
              "      <td>0</td>\n",
              "      <td>0</td>\n",
              "      <td>0</td>\n",
              "      <td>0</td>\n",
              "      <td>0</td>\n",
              "      <td>0</td>\n",
              "      <td>0</td>\n",
              "      <td>0</td>\n",
              "      <td>0</td>\n",
              "      <td>0</td>\n",
              "      <td>0</td>\n",
              "      <td>0</td>\n",
              "      <td>0</td>\n",
              "      <td>0</td>\n",
              "      <td>0</td>\n",
              "      <td>0</td>\n",
              "      <td>0</td>\n",
              "      <td>0</td>\n",
              "      <td>0</td>\n",
              "      <td>0</td>\n",
              "      <td>0</td>\n",
              "      <td>0</td>\n",
              "      <td>0</td>\n",
              "      <td>0</td>\n",
              "      <td>0</td>\n",
              "      <td>0</td>\n",
              "      <td>0</td>\n",
              "      <td>0</td>\n",
              "      <td>0</td>\n",
              "      <td>0</td>\n",
              "    </tr>\n",
              "  </tbody>\n",
              "</table>\n",
              "</div>"
            ],
            "text/plain": [
              "   home_rank  ...  tournament_Windward Islands Tournament\n",
              "0       65.0  ...                                       0\n",
              "1      111.0  ...                                       0\n",
              "2        4.0  ...                                       0\n",
              "3       52.0  ...                                       0\n",
              "4       59.0  ...                                       0\n",
              "\n",
              "[5 rows x 67 columns]"
            ]
          },
          "metadata": {},
          "execution_count": 70
        }
      ]
    },
    {
      "cell_type": "code",
      "metadata": {
        "id": "d6mM934KBgIQ"
      },
      "source": [
        "# Splitting our dataset\n",
        "#\n",
        "X = matches_log.drop('home_result',axis=1)\n",
        "y = matches_log['home_result']\n",
        "\n",
        "X_train, X_test, y_train, y_test = train_test_split(X, y, test_size = 0.2, random_state=25)\n",
        "\n",
        "# Standard scaling our variables as they have different unit measures\n",
        "from sklearn.preprocessing import StandardScaler\n",
        "sc = StandardScaler()\n",
        "X_train = sc.fit_transform(X_train)\n",
        "X_test = sc.transform(X_test)"
      ],
      "execution_count": 71,
      "outputs": []
    },
    {
      "cell_type": "code",
      "metadata": {
        "colab": {
          "base_uri": "https://localhost:8080/"
        },
        "id": "OtfsIsMSDgdR",
        "outputId": "c981a7f4-91af-4be0-ff6d-35683f9f32ce"
      },
      "source": [
        "# Fitting our model\n",
        "# \n",
        "from sklearn.linear_model import LogisticRegression\n",
        "\n",
        "LogReg = LogisticRegression(multi_class='multinomial', solver='lbfgs')\n",
        "LogReg.fit(X_train, y_train)\n",
        "\n",
        "# Using our model to make a prediction\n",
        "#\n",
        "y_pred = LogReg.predict(X_test)\n",
        "\n",
        "from sklearn.metrics import confusion_matrix\n",
        "from sklearn.metrics import accuracy_score\n",
        "\n",
        "confusion_matrix = confusion_matrix(y_test, y_pred)\n",
        "# Confusion matrix to see which classifications we got right and wrong\n",
        "print(confusion_matrix)\n",
        "# Finding the accuracy of our model\n",
        "print(accuracy_score(y_test, y_pred))"
      ],
      "execution_count": 72,
      "outputs": [
        {
          "output_type": "stream",
          "name": "stdout",
          "text": [
            "[[ 539   17  399]\n",
            " [ 264   10  533]\n",
            " [ 217   10 1387]]\n",
            "0.5734597156398105\n"
          ]
        }
      ]
    },
    {
      "cell_type": "markdown",
      "metadata": {
        "id": "JIjQ4Jw1hzyB"
      },
      "source": [
        "Our model correctly predicted 57% of scores. However, its prediction of draws is poor having correctly predicted only 10 draws out of 807. This is an area it could improve"
      ]
    },
    {
      "cell_type": "markdown",
      "metadata": {
        "id": "OyfKtqWlilaK"
      },
      "source": [
        "Also the method I used to find the rank of a team on the date it played a match left out many records that could have made our model better. "
      ]
    }
  ]
}